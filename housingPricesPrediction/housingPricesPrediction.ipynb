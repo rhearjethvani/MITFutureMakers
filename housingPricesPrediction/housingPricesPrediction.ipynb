{
  "nbformat": 4,
  "nbformat_minor": 0,
  "metadata": {
    "colab": {
      "name": "housingPricesPrediction.ipynb",
      "provenance": [],
      "authorship_tag": "ABX9TyOLuUGYG2zZpCkhp8Y4VTHo",
      "include_colab_link": true
    },
    "kernelspec": {
      "name": "python3",
      "display_name": "Python 3"
    },
    "language_info": {
      "name": "python"
    }
  },
  "cells": [
    {
      "cell_type": "markdown",
      "metadata": {
        "id": "view-in-github",
        "colab_type": "text"
      },
      "source": [
        "<a href=\"https://colab.research.google.com/github/rhearjethvani/MITFutureMakers/blob/main/housingPricesPrediction/housingPricesPrediction.ipynb\" target=\"_parent\"><img src=\"https://colab.research.google.com/assets/colab-badge.svg\" alt=\"Open In Colab\"/></a>"
      ]
    },
    {
      "cell_type": "code",
      "metadata": {
        "colab": {
          "base_uri": "https://localhost:8080/"
        },
        "id": "OMVHpYpTLeCl",
        "outputId": "a0ec05c9-5fe5-40d1-e737-409bf1ecd24a"
      },
      "source": [
        "from google.colab import drive\n",
        "drive.mount(\"/content/gdrive\")"
      ],
      "execution_count": 1,
      "outputs": [
        {
          "output_type": "stream",
          "text": [
            "Mounted at /content/gdrive\n"
          ],
          "name": "stdout"
        }
      ]
    },
    {
      "cell_type": "code",
      "metadata": {
        "id": "hTog6WP1Mjw_"
      },
      "source": [
        "import pandas as pd\n",
        "from sklearn import preprocessing\n",
        "from sklearn.model_selection import train_test_split\n",
        "from keras.models import Sequential\n",
        "from keras.layers import Dense\n",
        "import matplotlib.pyplot as plt\n",
        "from keras.layers import Dropout\n",
        "from keras import regularizers"
      ],
      "execution_count": 35,
      "outputs": []
    },
    {
      "cell_type": "code",
      "metadata": {
        "id": "Z-yWULeqMSaE"
      },
      "source": [
        "df = pd.read_csv(\"/content/gdrive/MyDrive/Colab Notebooks/housepricedata.csv\")"
      ],
      "execution_count": 4,
      "outputs": []
    },
    {
      "cell_type": "code",
      "metadata": {
        "colab": {
          "base_uri": "https://localhost:8080/",
          "height": 439
        },
        "id": "McELsoscMs9d",
        "outputId": "a887ec73-909d-4097-8bcf-ff8d56b72c59"
      },
      "source": [
        "df"
      ],
      "execution_count": 5,
      "outputs": [
        {
          "output_type": "execute_result",
          "data": {
            "text/html": [
              "<div>\n",
              "<style scoped>\n",
              "    .dataframe tbody tr th:only-of-type {\n",
              "        vertical-align: middle;\n",
              "    }\n",
              "\n",
              "    .dataframe tbody tr th {\n",
              "        vertical-align: top;\n",
              "    }\n",
              "\n",
              "    .dataframe thead th {\n",
              "        text-align: right;\n",
              "    }\n",
              "</style>\n",
              "<table border=\"1\" class=\"dataframe\">\n",
              "  <thead>\n",
              "    <tr style=\"text-align: right;\">\n",
              "      <th></th>\n",
              "      <th>LotArea</th>\n",
              "      <th>OverallQual</th>\n",
              "      <th>OverallCond</th>\n",
              "      <th>TotalBsmtSF</th>\n",
              "      <th>FullBath</th>\n",
              "      <th>HalfBath</th>\n",
              "      <th>BedroomAbvGr</th>\n",
              "      <th>TotRmsAbvGrd</th>\n",
              "      <th>Fireplaces</th>\n",
              "      <th>GarageArea</th>\n",
              "      <th>AboveMedianPrice</th>\n",
              "    </tr>\n",
              "  </thead>\n",
              "  <tbody>\n",
              "    <tr>\n",
              "      <th>0</th>\n",
              "      <td>8450</td>\n",
              "      <td>7</td>\n",
              "      <td>5</td>\n",
              "      <td>856</td>\n",
              "      <td>2</td>\n",
              "      <td>1</td>\n",
              "      <td>3</td>\n",
              "      <td>8</td>\n",
              "      <td>0</td>\n",
              "      <td>548</td>\n",
              "      <td>1</td>\n",
              "    </tr>\n",
              "    <tr>\n",
              "      <th>1</th>\n",
              "      <td>9600</td>\n",
              "      <td>6</td>\n",
              "      <td>8</td>\n",
              "      <td>1262</td>\n",
              "      <td>2</td>\n",
              "      <td>0</td>\n",
              "      <td>3</td>\n",
              "      <td>6</td>\n",
              "      <td>1</td>\n",
              "      <td>460</td>\n",
              "      <td>1</td>\n",
              "    </tr>\n",
              "    <tr>\n",
              "      <th>2</th>\n",
              "      <td>11250</td>\n",
              "      <td>7</td>\n",
              "      <td>5</td>\n",
              "      <td>920</td>\n",
              "      <td>2</td>\n",
              "      <td>1</td>\n",
              "      <td>3</td>\n",
              "      <td>6</td>\n",
              "      <td>1</td>\n",
              "      <td>608</td>\n",
              "      <td>1</td>\n",
              "    </tr>\n",
              "    <tr>\n",
              "      <th>3</th>\n",
              "      <td>9550</td>\n",
              "      <td>7</td>\n",
              "      <td>5</td>\n",
              "      <td>756</td>\n",
              "      <td>1</td>\n",
              "      <td>0</td>\n",
              "      <td>3</td>\n",
              "      <td>7</td>\n",
              "      <td>1</td>\n",
              "      <td>642</td>\n",
              "      <td>0</td>\n",
              "    </tr>\n",
              "    <tr>\n",
              "      <th>4</th>\n",
              "      <td>14260</td>\n",
              "      <td>8</td>\n",
              "      <td>5</td>\n",
              "      <td>1145</td>\n",
              "      <td>2</td>\n",
              "      <td>1</td>\n",
              "      <td>4</td>\n",
              "      <td>9</td>\n",
              "      <td>1</td>\n",
              "      <td>836</td>\n",
              "      <td>1</td>\n",
              "    </tr>\n",
              "    <tr>\n",
              "      <th>...</th>\n",
              "      <td>...</td>\n",
              "      <td>...</td>\n",
              "      <td>...</td>\n",
              "      <td>...</td>\n",
              "      <td>...</td>\n",
              "      <td>...</td>\n",
              "      <td>...</td>\n",
              "      <td>...</td>\n",
              "      <td>...</td>\n",
              "      <td>...</td>\n",
              "      <td>...</td>\n",
              "    </tr>\n",
              "    <tr>\n",
              "      <th>1455</th>\n",
              "      <td>7917</td>\n",
              "      <td>6</td>\n",
              "      <td>5</td>\n",
              "      <td>953</td>\n",
              "      <td>2</td>\n",
              "      <td>1</td>\n",
              "      <td>3</td>\n",
              "      <td>7</td>\n",
              "      <td>1</td>\n",
              "      <td>460</td>\n",
              "      <td>1</td>\n",
              "    </tr>\n",
              "    <tr>\n",
              "      <th>1456</th>\n",
              "      <td>13175</td>\n",
              "      <td>6</td>\n",
              "      <td>6</td>\n",
              "      <td>1542</td>\n",
              "      <td>2</td>\n",
              "      <td>0</td>\n",
              "      <td>3</td>\n",
              "      <td>7</td>\n",
              "      <td>2</td>\n",
              "      <td>500</td>\n",
              "      <td>1</td>\n",
              "    </tr>\n",
              "    <tr>\n",
              "      <th>1457</th>\n",
              "      <td>9042</td>\n",
              "      <td>7</td>\n",
              "      <td>9</td>\n",
              "      <td>1152</td>\n",
              "      <td>2</td>\n",
              "      <td>0</td>\n",
              "      <td>4</td>\n",
              "      <td>9</td>\n",
              "      <td>2</td>\n",
              "      <td>252</td>\n",
              "      <td>1</td>\n",
              "    </tr>\n",
              "    <tr>\n",
              "      <th>1458</th>\n",
              "      <td>9717</td>\n",
              "      <td>5</td>\n",
              "      <td>6</td>\n",
              "      <td>1078</td>\n",
              "      <td>1</td>\n",
              "      <td>0</td>\n",
              "      <td>2</td>\n",
              "      <td>5</td>\n",
              "      <td>0</td>\n",
              "      <td>240</td>\n",
              "      <td>0</td>\n",
              "    </tr>\n",
              "    <tr>\n",
              "      <th>1459</th>\n",
              "      <td>9937</td>\n",
              "      <td>5</td>\n",
              "      <td>6</td>\n",
              "      <td>1256</td>\n",
              "      <td>1</td>\n",
              "      <td>1</td>\n",
              "      <td>3</td>\n",
              "      <td>6</td>\n",
              "      <td>0</td>\n",
              "      <td>276</td>\n",
              "      <td>0</td>\n",
              "    </tr>\n",
              "  </tbody>\n",
              "</table>\n",
              "<p>1460 rows × 11 columns</p>\n",
              "</div>"
            ],
            "text/plain": [
              "      LotArea  OverallQual  ...  GarageArea  AboveMedianPrice\n",
              "0        8450            7  ...         548                 1\n",
              "1        9600            6  ...         460                 1\n",
              "2       11250            7  ...         608                 1\n",
              "3        9550            7  ...         642                 0\n",
              "4       14260            8  ...         836                 1\n",
              "...       ...          ...  ...         ...               ...\n",
              "1455     7917            6  ...         460                 1\n",
              "1456    13175            6  ...         500                 1\n",
              "1457     9042            7  ...         252                 1\n",
              "1458     9717            5  ...         240                 0\n",
              "1459     9937            5  ...         276                 0\n",
              "\n",
              "[1460 rows x 11 columns]"
            ]
          },
          "metadata": {
            "tags": []
          },
          "execution_count": 5
        }
      ]
    },
    {
      "cell_type": "code",
      "metadata": {
        "id": "hjprgHuzMwdw"
      },
      "source": [
        "dataset = df.values"
      ],
      "execution_count": 6,
      "outputs": []
    },
    {
      "cell_type": "code",
      "metadata": {
        "colab": {
          "base_uri": "https://localhost:8080/"
        },
        "id": "-0r_dvatMysi",
        "outputId": "8b57889f-a676-4746-8ec8-bbef75d39a88"
      },
      "source": [
        "dataset"
      ],
      "execution_count": 7,
      "outputs": [
        {
          "output_type": "execute_result",
          "data": {
            "text/plain": [
              "array([[ 8450,     7,     5, ...,     0,   548,     1],\n",
              "       [ 9600,     6,     8, ...,     1,   460,     1],\n",
              "       [11250,     7,     5, ...,     1,   608,     1],\n",
              "       ...,\n",
              "       [ 9042,     7,     9, ...,     2,   252,     1],\n",
              "       [ 9717,     5,     6, ...,     0,   240,     0],\n",
              "       [ 9937,     5,     6, ...,     0,   276,     0]])"
            ]
          },
          "metadata": {
            "tags": []
          },
          "execution_count": 7
        }
      ]
    },
    {
      "cell_type": "code",
      "metadata": {
        "id": "DbPkWXr1M0Vt"
      },
      "source": [
        "X = dataset[:, 0:10]"
      ],
      "execution_count": 8,
      "outputs": []
    },
    {
      "cell_type": "code",
      "metadata": {
        "id": "JS6zIpewM4FJ"
      },
      "source": [
        "Y = dataset[:, 10]"
      ],
      "execution_count": 9,
      "outputs": []
    },
    {
      "cell_type": "code",
      "metadata": {
        "id": "0Z87CQYVM7gv"
      },
      "source": [
        "min_max_scaler = preprocessing.MinMaxScaler()\n",
        "X_scale = min_max_scaler.fit_transform(X)"
      ],
      "execution_count": 11,
      "outputs": []
    },
    {
      "cell_type": "code",
      "metadata": {
        "colab": {
          "base_uri": "https://localhost:8080/"
        },
        "id": "2ixqv6b5NF8E",
        "outputId": "a2f45281-ed4e-4ad7-c61c-b698cb75b32f"
      },
      "source": [
        "X_scale"
      ],
      "execution_count": 12,
      "outputs": [
        {
          "output_type": "execute_result",
          "data": {
            "text/plain": [
              "array([[0.0334198 , 0.66666667, 0.5       , ..., 0.5       , 0.        ,\n",
              "        0.3864598 ],\n",
              "       [0.03879502, 0.55555556, 0.875     , ..., 0.33333333, 0.33333333,\n",
              "        0.32440056],\n",
              "       [0.04650728, 0.66666667, 0.5       , ..., 0.33333333, 0.33333333,\n",
              "        0.42877292],\n",
              "       ...,\n",
              "       [0.03618687, 0.66666667, 1.        , ..., 0.58333333, 0.66666667,\n",
              "        0.17771509],\n",
              "       [0.03934189, 0.44444444, 0.625     , ..., 0.25      , 0.        ,\n",
              "        0.16925247],\n",
              "       [0.04037019, 0.44444444, 0.625     , ..., 0.33333333, 0.        ,\n",
              "        0.19464034]])"
            ]
          },
          "metadata": {
            "tags": []
          },
          "execution_count": 12
        }
      ]
    },
    {
      "cell_type": "code",
      "metadata": {
        "id": "feb6NoikNOgI"
      },
      "source": [
        "X_train, X_val_and_test, Y_train, Y_val_and_test = train_test_split(X_scale, Y, test_size=0.3)"
      ],
      "execution_count": 14,
      "outputs": []
    },
    {
      "cell_type": "code",
      "metadata": {
        "id": "8tVCISioONLF"
      },
      "source": [
        "X_val, X_test, Y_val, Y_test = train_test_split(X_val_and_test, Y_val_and_test, test_size=0.5)"
      ],
      "execution_count": 16,
      "outputs": []
    },
    {
      "cell_type": "code",
      "metadata": {
        "colab": {
          "base_uri": "https://localhost:8080/"
        },
        "id": "xZr482rNOUBq",
        "outputId": "df47f3ee-da41-498e-f003-d65533498ffb"
      },
      "source": [
        "print(X_train.shape, X_val.shape, X_test.shape, Y_train.shape, Y_val.shape, Y_test.shape)"
      ],
      "execution_count": 17,
      "outputs": [
        {
          "output_type": "stream",
          "text": [
            "(1022, 10) (219, 10) (219, 10) (1022,) (219,) (219,)\n"
          ],
          "name": "stdout"
        }
      ]
    },
    {
      "cell_type": "code",
      "metadata": {
        "id": "0eH5P7P0OiJu"
      },
      "source": [
        "model = Sequential([\n",
        "                    Dense(32, activation='relu', input_shape=(10,)),\n",
        "                    Dense(32, activation='relu'),\n",
        "                    Dense(1, activation='sigmoid'),\n",
        "])"
      ],
      "execution_count": 19,
      "outputs": []
    },
    {
      "cell_type": "code",
      "metadata": {
        "id": "af1GzKBtOtQV"
      },
      "source": [
        "model.compile(optimizer='sgd',\n",
        "              loss='binary_crossentropy',\n",
        "              metrics=['accuracy'])"
      ],
      "execution_count": 20,
      "outputs": []
    },
    {
      "cell_type": "code",
      "metadata": {
        "colab": {
          "base_uri": "https://localhost:8080/"
        },
        "id": "E2P5FgyFO0Mu",
        "outputId": "e1478b86-4871-4018-bf10-c60f06ca66a2"
      },
      "source": [
        "hist = model.fit(X_train, Y_train,\n",
        "                 batch_size=32, epochs=100,\n",
        "                 validation_data=(X_val, Y_val))"
      ],
      "execution_count": 21,
      "outputs": [
        {
          "output_type": "stream",
          "text": [
            "Epoch 1/100\n",
            "32/32 [==============================] - 15s 18ms/step - loss: 0.7038 - accuracy: 0.4870 - val_loss: 0.6913 - val_accuracy: 0.5114\n",
            "Epoch 2/100\n",
            "32/32 [==============================] - 0s 2ms/step - loss: 0.6857 - accuracy: 0.5194 - val_loss: 0.6788 - val_accuracy: 0.6210\n",
            "Epoch 3/100\n",
            "32/32 [==============================] - 0s 2ms/step - loss: 0.6736 - accuracy: 0.6749 - val_loss: 0.6684 - val_accuracy: 0.6941\n",
            "Epoch 4/100\n",
            "32/32 [==============================] - 0s 3ms/step - loss: 0.6642 - accuracy: 0.7118 - val_loss: 0.6599 - val_accuracy: 0.7580\n",
            "Epoch 5/100\n",
            "32/32 [==============================] - 0s 2ms/step - loss: 0.6555 - accuracy: 0.7564 - val_loss: 0.6522 - val_accuracy: 0.8037\n",
            "Epoch 6/100\n",
            "32/32 [==============================] - 0s 3ms/step - loss: 0.6488 - accuracy: 0.8015 - val_loss: 0.6450 - val_accuracy: 0.8082\n",
            "Epoch 7/100\n",
            "32/32 [==============================] - 0s 2ms/step - loss: 0.6413 - accuracy: 0.8226 - val_loss: 0.6383 - val_accuracy: 0.7991\n",
            "Epoch 8/100\n",
            "32/32 [==============================] - 0s 2ms/step - loss: 0.6368 - accuracy: 0.8025 - val_loss: 0.6317 - val_accuracy: 0.8082\n",
            "Epoch 9/100\n",
            "32/32 [==============================] - 0s 3ms/step - loss: 0.6234 - accuracy: 0.8196 - val_loss: 0.6243 - val_accuracy: 0.8082\n",
            "Epoch 10/100\n",
            "32/32 [==============================] - 0s 2ms/step - loss: 0.6200 - accuracy: 0.8216 - val_loss: 0.6173 - val_accuracy: 0.8174\n",
            "Epoch 11/100\n",
            "32/32 [==============================] - 0s 2ms/step - loss: 0.6126 - accuracy: 0.8259 - val_loss: 0.6101 - val_accuracy: 0.8219\n",
            "Epoch 12/100\n",
            "32/32 [==============================] - 0s 2ms/step - loss: 0.6084 - accuracy: 0.8169 - val_loss: 0.6031 - val_accuracy: 0.8219\n",
            "Epoch 13/100\n",
            "32/32 [==============================] - 0s 2ms/step - loss: 0.5982 - accuracy: 0.8140 - val_loss: 0.5950 - val_accuracy: 0.8128\n",
            "Epoch 14/100\n",
            "32/32 [==============================] - 0s 3ms/step - loss: 0.5936 - accuracy: 0.8152 - val_loss: 0.5871 - val_accuracy: 0.8174\n",
            "Epoch 15/100\n",
            "32/32 [==============================] - 0s 3ms/step - loss: 0.5786 - accuracy: 0.8423 - val_loss: 0.5785 - val_accuracy: 0.8082\n",
            "Epoch 16/100\n",
            "32/32 [==============================] - 0s 3ms/step - loss: 0.5717 - accuracy: 0.8387 - val_loss: 0.5703 - val_accuracy: 0.8174\n",
            "Epoch 17/100\n",
            "32/32 [==============================] - 0s 2ms/step - loss: 0.5639 - accuracy: 0.8341 - val_loss: 0.5606 - val_accuracy: 0.8082\n",
            "Epoch 18/100\n",
            "32/32 [==============================] - 0s 2ms/step - loss: 0.5547 - accuracy: 0.8356 - val_loss: 0.5509 - val_accuracy: 0.8265\n",
            "Epoch 19/100\n",
            "32/32 [==============================] - 0s 2ms/step - loss: 0.5489 - accuracy: 0.8409 - val_loss: 0.5420 - val_accuracy: 0.8219\n",
            "Epoch 20/100\n",
            "32/32 [==============================] - 0s 2ms/step - loss: 0.5437 - accuracy: 0.8342 - val_loss: 0.5325 - val_accuracy: 0.8219\n",
            "Epoch 21/100\n",
            "32/32 [==============================] - 0s 2ms/step - loss: 0.5276 - accuracy: 0.8559 - val_loss: 0.5223 - val_accuracy: 0.8219\n",
            "Epoch 22/100\n",
            "32/32 [==============================] - 0s 3ms/step - loss: 0.5171 - accuracy: 0.8549 - val_loss: 0.5119 - val_accuracy: 0.8265\n",
            "Epoch 23/100\n",
            "32/32 [==============================] - 0s 2ms/step - loss: 0.5109 - accuracy: 0.8476 - val_loss: 0.5027 - val_accuracy: 0.8219\n",
            "Epoch 24/100\n",
            "32/32 [==============================] - 0s 3ms/step - loss: 0.4932 - accuracy: 0.8633 - val_loss: 0.4926 - val_accuracy: 0.8219\n",
            "Epoch 25/100\n",
            "32/32 [==============================] - 0s 2ms/step - loss: 0.4945 - accuracy: 0.8457 - val_loss: 0.4822 - val_accuracy: 0.8219\n",
            "Epoch 26/100\n",
            "32/32 [==============================] - 0s 3ms/step - loss: 0.4743 - accuracy: 0.8740 - val_loss: 0.4711 - val_accuracy: 0.8447\n",
            "Epoch 27/100\n",
            "32/32 [==============================] - 0s 2ms/step - loss: 0.4743 - accuracy: 0.8568 - val_loss: 0.4609 - val_accuracy: 0.8447\n",
            "Epoch 28/100\n",
            "32/32 [==============================] - 0s 3ms/step - loss: 0.4748 - accuracy: 0.8510 - val_loss: 0.4521 - val_accuracy: 0.8447\n",
            "Epoch 29/100\n",
            "32/32 [==============================] - 0s 2ms/step - loss: 0.4455 - accuracy: 0.8609 - val_loss: 0.4420 - val_accuracy: 0.8447\n",
            "Epoch 30/100\n",
            "32/32 [==============================] - 0s 2ms/step - loss: 0.4410 - accuracy: 0.8630 - val_loss: 0.4331 - val_accuracy: 0.8447\n",
            "Epoch 31/100\n",
            "32/32 [==============================] - 0s 2ms/step - loss: 0.4279 - accuracy: 0.8574 - val_loss: 0.4264 - val_accuracy: 0.8447\n",
            "Epoch 32/100\n",
            "32/32 [==============================] - 0s 2ms/step - loss: 0.4334 - accuracy: 0.8603 - val_loss: 0.4176 - val_accuracy: 0.8447\n",
            "Epoch 33/100\n",
            "32/32 [==============================] - 0s 2ms/step - loss: 0.4277 - accuracy: 0.8636 - val_loss: 0.4098 - val_accuracy: 0.8447\n",
            "Epoch 34/100\n",
            "32/32 [==============================] - 0s 2ms/step - loss: 0.4225 - accuracy: 0.8571 - val_loss: 0.4026 - val_accuracy: 0.8493\n",
            "Epoch 35/100\n",
            "32/32 [==============================] - 0s 2ms/step - loss: 0.4181 - accuracy: 0.8542 - val_loss: 0.3945 - val_accuracy: 0.8630\n",
            "Epoch 36/100\n",
            "32/32 [==============================] - 0s 2ms/step - loss: 0.4079 - accuracy: 0.8503 - val_loss: 0.3897 - val_accuracy: 0.8493\n",
            "Epoch 37/100\n",
            "32/32 [==============================] - 0s 2ms/step - loss: 0.3825 - accuracy: 0.8707 - val_loss: 0.3837 - val_accuracy: 0.8447\n",
            "Epoch 38/100\n",
            "32/32 [==============================] - 0s 2ms/step - loss: 0.3931 - accuracy: 0.8631 - val_loss: 0.3771 - val_accuracy: 0.8539\n",
            "Epoch 39/100\n",
            "32/32 [==============================] - 0s 2ms/step - loss: 0.3913 - accuracy: 0.8611 - val_loss: 0.3721 - val_accuracy: 0.8493\n",
            "Epoch 40/100\n",
            "32/32 [==============================] - 0s 3ms/step - loss: 0.3797 - accuracy: 0.8662 - val_loss: 0.3667 - val_accuracy: 0.8493\n",
            "Epoch 41/100\n",
            "32/32 [==============================] - 0s 2ms/step - loss: 0.3834 - accuracy: 0.8690 - val_loss: 0.3621 - val_accuracy: 0.8539\n",
            "Epoch 42/100\n",
            "32/32 [==============================] - 0s 2ms/step - loss: 0.3675 - accuracy: 0.8793 - val_loss: 0.3550 - val_accuracy: 0.8584\n",
            "Epoch 43/100\n",
            "32/32 [==============================] - 0s 2ms/step - loss: 0.3769 - accuracy: 0.8626 - val_loss: 0.3523 - val_accuracy: 0.8539\n",
            "Epoch 44/100\n",
            "32/32 [==============================] - 0s 2ms/step - loss: 0.3697 - accuracy: 0.8640 - val_loss: 0.3453 - val_accuracy: 0.8584\n",
            "Epoch 45/100\n",
            "32/32 [==============================] - 0s 2ms/step - loss: 0.3701 - accuracy: 0.8625 - val_loss: 0.3432 - val_accuracy: 0.8539\n",
            "Epoch 46/100\n",
            "32/32 [==============================] - 0s 2ms/step - loss: 0.3461 - accuracy: 0.8797 - val_loss: 0.3387 - val_accuracy: 0.8584\n",
            "Epoch 47/100\n",
            "32/32 [==============================] - 0s 2ms/step - loss: 0.3590 - accuracy: 0.8653 - val_loss: 0.3357 - val_accuracy: 0.8539\n",
            "Epoch 48/100\n",
            "32/32 [==============================] - 0s 2ms/step - loss: 0.3509 - accuracy: 0.8778 - val_loss: 0.3325 - val_accuracy: 0.8539\n",
            "Epoch 49/100\n",
            "32/32 [==============================] - 0s 2ms/step - loss: 0.3546 - accuracy: 0.8767 - val_loss: 0.3282 - val_accuracy: 0.8584\n",
            "Epoch 50/100\n",
            "32/32 [==============================] - 0s 2ms/step - loss: 0.3516 - accuracy: 0.8663 - val_loss: 0.3295 - val_accuracy: 0.8447\n",
            "Epoch 51/100\n",
            "32/32 [==============================] - 0s 2ms/step - loss: 0.3363 - accuracy: 0.8784 - val_loss: 0.3217 - val_accuracy: 0.8676\n",
            "Epoch 52/100\n",
            "32/32 [==============================] - 0s 2ms/step - loss: 0.3653 - accuracy: 0.8512 - val_loss: 0.3199 - val_accuracy: 0.8630\n",
            "Epoch 53/100\n",
            "32/32 [==============================] - 0s 3ms/step - loss: 0.3452 - accuracy: 0.8673 - val_loss: 0.3161 - val_accuracy: 0.8676\n",
            "Epoch 54/100\n",
            "32/32 [==============================] - 0s 3ms/step - loss: 0.3250 - accuracy: 0.8796 - val_loss: 0.3143 - val_accuracy: 0.8676\n",
            "Epoch 55/100\n",
            "32/32 [==============================] - 0s 2ms/step - loss: 0.3450 - accuracy: 0.8638 - val_loss: 0.3117 - val_accuracy: 0.8676\n",
            "Epoch 56/100\n",
            "32/32 [==============================] - 0s 2ms/step - loss: 0.3311 - accuracy: 0.8717 - val_loss: 0.3102 - val_accuracy: 0.8676\n",
            "Epoch 57/100\n",
            "32/32 [==============================] - 0s 2ms/step - loss: 0.3076 - accuracy: 0.8862 - val_loss: 0.3070 - val_accuracy: 0.8676\n",
            "Epoch 58/100\n",
            "32/32 [==============================] - 0s 2ms/step - loss: 0.3180 - accuracy: 0.8810 - val_loss: 0.3058 - val_accuracy: 0.8676\n",
            "Epoch 59/100\n",
            "32/32 [==============================] - 0s 2ms/step - loss: 0.3193 - accuracy: 0.8865 - val_loss: 0.3042 - val_accuracy: 0.8676\n",
            "Epoch 60/100\n",
            "32/32 [==============================] - 0s 2ms/step - loss: 0.3139 - accuracy: 0.8812 - val_loss: 0.3039 - val_accuracy: 0.8539\n",
            "Epoch 61/100\n",
            "32/32 [==============================] - 0s 2ms/step - loss: 0.3254 - accuracy: 0.8720 - val_loss: 0.2999 - val_accuracy: 0.8676\n",
            "Epoch 62/100\n",
            "32/32 [==============================] - 0s 2ms/step - loss: 0.3012 - accuracy: 0.8987 - val_loss: 0.2970 - val_accuracy: 0.8767\n",
            "Epoch 63/100\n",
            "32/32 [==============================] - 0s 2ms/step - loss: 0.3426 - accuracy: 0.8740 - val_loss: 0.2978 - val_accuracy: 0.8676\n",
            "Epoch 64/100\n",
            "32/32 [==============================] - 0s 2ms/step - loss: 0.3362 - accuracy: 0.8549 - val_loss: 0.2961 - val_accuracy: 0.8630\n",
            "Epoch 65/100\n",
            "32/32 [==============================] - 0s 2ms/step - loss: 0.3519 - accuracy: 0.8651 - val_loss: 0.2935 - val_accuracy: 0.8767\n",
            "Epoch 66/100\n",
            "32/32 [==============================] - 0s 3ms/step - loss: 0.3016 - accuracy: 0.8781 - val_loss: 0.2893 - val_accuracy: 0.8767\n",
            "Epoch 67/100\n",
            "32/32 [==============================] - 0s 3ms/step - loss: 0.2960 - accuracy: 0.8907 - val_loss: 0.2881 - val_accuracy: 0.8767\n",
            "Epoch 68/100\n",
            "32/32 [==============================] - 0s 3ms/step - loss: 0.3176 - accuracy: 0.8698 - val_loss: 0.2895 - val_accuracy: 0.8721\n",
            "Epoch 69/100\n",
            "32/32 [==============================] - 0s 2ms/step - loss: 0.2944 - accuracy: 0.8778 - val_loss: 0.2856 - val_accuracy: 0.8767\n",
            "Epoch 70/100\n",
            "32/32 [==============================] - 0s 2ms/step - loss: 0.2930 - accuracy: 0.8896 - val_loss: 0.2852 - val_accuracy: 0.8767\n",
            "Epoch 71/100\n",
            "32/32 [==============================] - 0s 2ms/step - loss: 0.3212 - accuracy: 0.8690 - val_loss: 0.2856 - val_accuracy: 0.8721\n",
            "Epoch 72/100\n",
            "32/32 [==============================] - 0s 2ms/step - loss: 0.3403 - accuracy: 0.8678 - val_loss: 0.2804 - val_accuracy: 0.8721\n",
            "Epoch 73/100\n",
            "32/32 [==============================] - 0s 2ms/step - loss: 0.3040 - accuracy: 0.8835 - val_loss: 0.2798 - val_accuracy: 0.8767\n",
            "Epoch 74/100\n",
            "32/32 [==============================] - 0s 2ms/step - loss: 0.3011 - accuracy: 0.8842 - val_loss: 0.2786 - val_accuracy: 0.8767\n",
            "Epoch 75/100\n",
            "32/32 [==============================] - 0s 3ms/step - loss: 0.3433 - accuracy: 0.8669 - val_loss: 0.2769 - val_accuracy: 0.8721\n",
            "Epoch 76/100\n",
            "32/32 [==============================] - 0s 2ms/step - loss: 0.3201 - accuracy: 0.8786 - val_loss: 0.2797 - val_accuracy: 0.8721\n",
            "Epoch 77/100\n",
            "32/32 [==============================] - 0s 3ms/step - loss: 0.3117 - accuracy: 0.8735 - val_loss: 0.2789 - val_accuracy: 0.8721\n",
            "Epoch 78/100\n",
            "32/32 [==============================] - 0s 2ms/step - loss: 0.3179 - accuracy: 0.8770 - val_loss: 0.2781 - val_accuracy: 0.8721\n",
            "Epoch 79/100\n",
            "32/32 [==============================] - 0s 2ms/step - loss: 0.2787 - accuracy: 0.9011 - val_loss: 0.2743 - val_accuracy: 0.8767\n",
            "Epoch 80/100\n",
            "32/32 [==============================] - 0s 3ms/step - loss: 0.3020 - accuracy: 0.8784 - val_loss: 0.2735 - val_accuracy: 0.8767\n",
            "Epoch 81/100\n",
            "32/32 [==============================] - 0s 2ms/step - loss: 0.3369 - accuracy: 0.8667 - val_loss: 0.2728 - val_accuracy: 0.8721\n",
            "Epoch 82/100\n",
            "32/32 [==============================] - 0s 2ms/step - loss: 0.2885 - accuracy: 0.8824 - val_loss: 0.2710 - val_accuracy: 0.8767\n",
            "Epoch 83/100\n",
            "32/32 [==============================] - 0s 2ms/step - loss: 0.3048 - accuracy: 0.8790 - val_loss: 0.2764 - val_accuracy: 0.8721\n",
            "Epoch 84/100\n",
            "32/32 [==============================] - 0s 2ms/step - loss: 0.2948 - accuracy: 0.8850 - val_loss: 0.2684 - val_accuracy: 0.8767\n",
            "Epoch 85/100\n",
            "32/32 [==============================] - 0s 3ms/step - loss: 0.2791 - accuracy: 0.8890 - val_loss: 0.2700 - val_accuracy: 0.8721\n",
            "Epoch 86/100\n",
            "32/32 [==============================] - 0s 2ms/step - loss: 0.3057 - accuracy: 0.8828 - val_loss: 0.2657 - val_accuracy: 0.8767\n",
            "Epoch 87/100\n",
            "32/32 [==============================] - 0s 2ms/step - loss: 0.3008 - accuracy: 0.8785 - val_loss: 0.2711 - val_accuracy: 0.8721\n",
            "Epoch 88/100\n",
            "32/32 [==============================] - 0s 3ms/step - loss: 0.3000 - accuracy: 0.8694 - val_loss: 0.2673 - val_accuracy: 0.8721\n",
            "Epoch 89/100\n",
            "32/32 [==============================] - 0s 2ms/step - loss: 0.3124 - accuracy: 0.8728 - val_loss: 0.2658 - val_accuracy: 0.8721\n",
            "Epoch 90/100\n",
            "32/32 [==============================] - 0s 2ms/step - loss: 0.3101 - accuracy: 0.8805 - val_loss: 0.2634 - val_accuracy: 0.8813\n",
            "Epoch 91/100\n",
            "32/32 [==============================] - 0s 3ms/step - loss: 0.3238 - accuracy: 0.8690 - val_loss: 0.2632 - val_accuracy: 0.8767\n",
            "Epoch 92/100\n",
            "32/32 [==============================] - 0s 3ms/step - loss: 0.2689 - accuracy: 0.8950 - val_loss: 0.2625 - val_accuracy: 0.8767\n",
            "Epoch 93/100\n",
            "32/32 [==============================] - 0s 2ms/step - loss: 0.2892 - accuracy: 0.8799 - val_loss: 0.2599 - val_accuracy: 0.8813\n",
            "Epoch 94/100\n",
            "32/32 [==============================] - 0s 2ms/step - loss: 0.2892 - accuracy: 0.8794 - val_loss: 0.2613 - val_accuracy: 0.8721\n",
            "Epoch 95/100\n",
            "32/32 [==============================] - 0s 2ms/step - loss: 0.2893 - accuracy: 0.8840 - val_loss: 0.2638 - val_accuracy: 0.8721\n",
            "Epoch 96/100\n",
            "32/32 [==============================] - 0s 2ms/step - loss: 0.2866 - accuracy: 0.8786 - val_loss: 0.2589 - val_accuracy: 0.8858\n",
            "Epoch 97/100\n",
            "32/32 [==============================] - 0s 3ms/step - loss: 0.2752 - accuracy: 0.8942 - val_loss: 0.2619 - val_accuracy: 0.8767\n",
            "Epoch 98/100\n",
            "32/32 [==============================] - 0s 3ms/step - loss: 0.3034 - accuracy: 0.8646 - val_loss: 0.2607 - val_accuracy: 0.8721\n",
            "Epoch 99/100\n",
            "32/32 [==============================] - 0s 3ms/step - loss: 0.2905 - accuracy: 0.8744 - val_loss: 0.2586 - val_accuracy: 0.8767\n",
            "Epoch 100/100\n",
            "32/32 [==============================] - 0s 2ms/step - loss: 0.2744 - accuracy: 0.9043 - val_loss: 0.2575 - val_accuracy: 0.8813\n"
          ],
          "name": "stdout"
        }
      ]
    },
    {
      "cell_type": "code",
      "metadata": {
        "colab": {
          "base_uri": "https://localhost:8080/"
        },
        "id": "edANT0dJPQsx",
        "outputId": "98746bd6-5da8-4074-bd0e-0fe81a2ee580"
      },
      "source": [
        "model.evaluate(X_test, Y_test)[1]"
      ],
      "execution_count": 22,
      "outputs": [
        {
          "output_type": "stream",
          "text": [
            "7/7 [==============================] - 0s 2ms/step - loss: 0.2859 - accuracy: 0.8858\n"
          ],
          "name": "stdout"
        },
        {
          "output_type": "execute_result",
          "data": {
            "text/plain": [
              "0.8858447670936584"
            ]
          },
          "metadata": {
            "tags": []
          },
          "execution_count": 22
        }
      ]
    },
    {
      "cell_type": "code",
      "metadata": {
        "colab": {
          "base_uri": "https://localhost:8080/",
          "height": 295
        },
        "id": "rmaFU57WPaj0",
        "outputId": "0048b911-aa3a-4df8-e74a-3c72143e8dfa"
      },
      "source": [
        "plt.plot(hist.history['loss'])\n",
        "plt.plot(hist.history['val_loss'])\n",
        "plt.title('Model Loss')\n",
        "plt.ylabel('Loss')\n",
        "plt.xlabel('Epoch')\n",
        "plt.legend(['Train', 'Val'], loc='upper right')\n",
        "plt.show()"
      ],
      "execution_count": 25,
      "outputs": [
        {
          "output_type": "display_data",
          "data": {
            "image/png": "[encoded data removed]",
            "text/plain": [
              "<Figure size 432x288 with 1 Axes>"
            ]
          },
          "metadata": {
            "tags": [],
            "needs_background": "light"
          }
        }
      ]
    },
    {
      "cell_type": "code",
      "metadata": {
        "colab": {
          "base_uri": "https://localhost:8080/",
          "height": 295
        },
        "id": "LXgExp5iPsYK",
        "outputId": "ba3e3ae9-9e56-4412-85f4-37a8a845e0d8"
      },
      "source": [
        "plt.plot(hist.history['accuracy'])\n",
        "plt.plot(hist.history['val_accuracy'])\n",
        "plt.title('Model Accuracy')\n",
        "plt.ylabel('Accuracy')\n",
        "plt.xlabel('Epoch')\n",
        "plt.legend(['Train', 'Val'], loc='lower right')\n",
        "plt.show()"
      ],
      "execution_count": 33,
      "outputs": [
        {
          "output_type": "display_data",
          "data": {
            "image/png": "[encoded data removed]",
            "text/plain": [
              "<Figure size 432x288 with 1 Axes>"
            ]
          },
          "metadata": {
            "tags": [],
            "needs_background": "light"
          }
        }
      ]
    },
    {
      "cell_type": "code",
      "metadata": {
        "id": "uFdw-8QiP2zt"
      },
      "source": [
        "model_2 = Sequential([\n",
        "                      Dense(1000, activation='relu', input_shape=(10,)),\n",
        "                      Dense(1000, activation='relu'),\n",
        "                      Dense(1000, activation='relu'),\n",
        "                      Dense(1000, activation='relu'),\n",
        "                      Dense(1, activation='sigmoid'),\n",
        "])"
      ],
      "execution_count": 29,
      "outputs": []
    },
    {
      "cell_type": "code",
      "metadata": {
        "id": "50u546BTQHka"
      },
      "source": [
        "model_2.compile(optimizer='adam',\n",
        "                loss='binary_crossentropy',\n",
        "                metrics=['accuracy'])"
      ],
      "execution_count": 30,
      "outputs": []
    },
    {
      "cell_type": "code",
      "metadata": {
        "colab": {
          "base_uri": "https://localhost:8080/"
        },
        "id": "uBbY8gQNQO5g",
        "outputId": "75b3e7ea-dc67-4cc5-cf73-52c6b7789ecf"
      },
      "source": [
        "hist_2 = model_2.fit(X_train, Y_train,\n",
        "                     batch_size=32, epochs=100,\n",
        "                     validation_data=(X_val, Y_val))"
      ],
      "execution_count": 31,
      "outputs": [
        {
          "output_type": "stream",
          "text": [
            "Epoch 1/100\n",
            "32/32 [==============================] - 3s 50ms/step - loss: 0.5651 - accuracy: 0.6365 - val_loss: 0.3650 - val_accuracy: 0.8721\n",
            "Epoch 2/100\n",
            "32/32 [==============================] - 1s 38ms/step - loss: 0.3411 - accuracy: 0.8662 - val_loss: 0.3545 - val_accuracy: 0.8493\n",
            "Epoch 3/100\n",
            "32/32 [==============================] - 1s 38ms/step - loss: 0.3045 - accuracy: 0.8746 - val_loss: 0.2913 - val_accuracy: 0.8630\n",
            "Epoch 4/100\n",
            "32/32 [==============================] - 1s 38ms/step - loss: 0.2950 - accuracy: 0.8715 - val_loss: 0.3116 - val_accuracy: 0.8813\n",
            "Epoch 5/100\n",
            "32/32 [==============================] - 1s 39ms/step - loss: 0.2838 - accuracy: 0.9036 - val_loss: 0.2545 - val_accuracy: 0.8767\n",
            "Epoch 6/100\n",
            "32/32 [==============================] - 1s 38ms/step - loss: 0.2931 - accuracy: 0.8772 - val_loss: 0.2468 - val_accuracy: 0.8767\n",
            "Epoch 7/100\n",
            "32/32 [==============================] - 1s 38ms/step - loss: 0.2293 - accuracy: 0.9140 - val_loss: 0.3212 - val_accuracy: 0.8447\n",
            "Epoch 8/100\n",
            "32/32 [==============================] - 1s 39ms/step - loss: 0.2743 - accuracy: 0.8881 - val_loss: 0.2367 - val_accuracy: 0.8904\n",
            "Epoch 9/100\n",
            "32/32 [==============================] - 1s 38ms/step - loss: 0.2708 - accuracy: 0.8906 - val_loss: 0.2419 - val_accuracy: 0.8904\n",
            "Epoch 10/100\n",
            "32/32 [==============================] - 1s 39ms/step - loss: 0.2186 - accuracy: 0.9064 - val_loss: 0.2686 - val_accuracy: 0.8950\n",
            "Epoch 11/100\n",
            "32/32 [==============================] - 1s 38ms/step - loss: 0.2490 - accuracy: 0.8916 - val_loss: 0.3019 - val_accuracy: 0.8584\n",
            "Epoch 12/100\n",
            "32/32 [==============================] - 1s 40ms/step - loss: 0.2049 - accuracy: 0.9103 - val_loss: 0.2190 - val_accuracy: 0.8995\n",
            "Epoch 13/100\n",
            "32/32 [==============================] - 1s 38ms/step - loss: 0.2283 - accuracy: 0.9153 - val_loss: 0.3180 - val_accuracy: 0.8447\n",
            "Epoch 14/100\n",
            "32/32 [==============================] - 1s 39ms/step - loss: 0.2309 - accuracy: 0.9080 - val_loss: 0.2284 - val_accuracy: 0.8904\n",
            "Epoch 15/100\n",
            "32/32 [==============================] - 1s 38ms/step - loss: 0.2086 - accuracy: 0.9240 - val_loss: 0.3049 - val_accuracy: 0.8584\n",
            "Epoch 16/100\n",
            "32/32 [==============================] - 1s 40ms/step - loss: 0.2164 - accuracy: 0.9056 - val_loss: 0.3036 - val_accuracy: 0.8904\n",
            "Epoch 17/100\n",
            "32/32 [==============================] - 1s 38ms/step - loss: 0.2151 - accuracy: 0.9116 - val_loss: 0.3382 - val_accuracy: 0.8493\n",
            "Epoch 18/100\n",
            "32/32 [==============================] - 1s 38ms/step - loss: 0.1979 - accuracy: 0.9192 - val_loss: 0.2613 - val_accuracy: 0.8721\n",
            "Epoch 19/100\n",
            "32/32 [==============================] - 1s 38ms/step - loss: 0.2091 - accuracy: 0.9028 - val_loss: 0.2223 - val_accuracy: 0.8995\n",
            "Epoch 20/100\n",
            "32/32 [==============================] - 1s 40ms/step - loss: 0.2045 - accuracy: 0.9127 - val_loss: 0.2555 - val_accuracy: 0.8721\n",
            "Epoch 21/100\n",
            "32/32 [==============================] - 1s 41ms/step - loss: 0.2111 - accuracy: 0.9120 - val_loss: 0.2541 - val_accuracy: 0.8904\n",
            "Epoch 22/100\n",
            "32/32 [==============================] - 1s 39ms/step - loss: 0.1703 - accuracy: 0.9258 - val_loss: 0.2101 - val_accuracy: 0.8858\n",
            "Epoch 23/100\n",
            "32/32 [==============================] - 1s 38ms/step - loss: 0.1919 - accuracy: 0.9183 - val_loss: 0.2089 - val_accuracy: 0.8995\n",
            "Epoch 24/100\n",
            "32/32 [==============================] - 1s 39ms/step - loss: 0.2039 - accuracy: 0.9117 - val_loss: 0.2388 - val_accuracy: 0.8858\n",
            "Epoch 25/100\n",
            "32/32 [==============================] - 1s 38ms/step - loss: 0.1988 - accuracy: 0.9135 - val_loss: 0.2247 - val_accuracy: 0.8995\n",
            "Epoch 26/100\n",
            "32/32 [==============================] - 1s 38ms/step - loss: 0.2011 - accuracy: 0.9169 - val_loss: 0.2292 - val_accuracy: 0.8858\n",
            "Epoch 27/100\n",
            "32/32 [==============================] - 1s 39ms/step - loss: 0.1864 - accuracy: 0.9171 - val_loss: 0.3150 - val_accuracy: 0.8630\n",
            "Epoch 28/100\n",
            "32/32 [==============================] - 1s 40ms/step - loss: 0.1754 - accuracy: 0.9186 - val_loss: 0.2084 - val_accuracy: 0.9132\n",
            "Epoch 29/100\n",
            "32/32 [==============================] - 1s 39ms/step - loss: 0.2017 - accuracy: 0.9219 - val_loss: 0.2393 - val_accuracy: 0.8995\n",
            "Epoch 30/100\n",
            "32/32 [==============================] - 1s 39ms/step - loss: 0.1942 - accuracy: 0.9232 - val_loss: 0.2160 - val_accuracy: 0.8995\n",
            "Epoch 31/100\n",
            "32/32 [==============================] - 1s 39ms/step - loss: 0.1775 - accuracy: 0.9337 - val_loss: 0.2969 - val_accuracy: 0.8721\n",
            "Epoch 32/100\n",
            "32/32 [==============================] - 1s 39ms/step - loss: 0.1949 - accuracy: 0.9257 - val_loss: 0.2117 - val_accuracy: 0.9132\n",
            "Epoch 33/100\n",
            "32/32 [==============================] - 1s 39ms/step - loss: 0.1866 - accuracy: 0.9272 - val_loss: 0.2044 - val_accuracy: 0.9087\n",
            "Epoch 34/100\n",
            "32/32 [==============================] - 1s 38ms/step - loss: 0.1749 - accuracy: 0.9294 - val_loss: 0.2236 - val_accuracy: 0.8813\n",
            "Epoch 35/100\n",
            "32/32 [==============================] - 1s 38ms/step - loss: 0.1693 - accuracy: 0.9353 - val_loss: 0.2497 - val_accuracy: 0.9087\n",
            "Epoch 36/100\n",
            "32/32 [==============================] - 1s 39ms/step - loss: 0.1877 - accuracy: 0.9095 - val_loss: 0.2226 - val_accuracy: 0.9132\n",
            "Epoch 37/100\n",
            "32/32 [==============================] - 1s 39ms/step - loss: 0.1850 - accuracy: 0.9161 - val_loss: 0.2041 - val_accuracy: 0.9132\n",
            "Epoch 38/100\n",
            "32/32 [==============================] - 1s 39ms/step - loss: 0.1603 - accuracy: 0.9388 - val_loss: 0.2345 - val_accuracy: 0.8950\n",
            "Epoch 39/100\n",
            "32/32 [==============================] - 1s 38ms/step - loss: 0.1582 - accuracy: 0.9347 - val_loss: 0.2264 - val_accuracy: 0.9041\n",
            "Epoch 40/100\n",
            "32/32 [==============================] - 1s 38ms/step - loss: 0.1642 - accuracy: 0.9359 - val_loss: 0.2032 - val_accuracy: 0.9087\n",
            "Epoch 41/100\n",
            "32/32 [==============================] - 1s 38ms/step - loss: 0.1915 - accuracy: 0.9227 - val_loss: 0.2180 - val_accuracy: 0.8858\n",
            "Epoch 42/100\n",
            "32/32 [==============================] - 1s 39ms/step - loss: 0.1785 - accuracy: 0.9326 - val_loss: 0.2150 - val_accuracy: 0.9087\n",
            "Epoch 43/100\n",
            "32/32 [==============================] - 1s 40ms/step - loss: 0.1791 - accuracy: 0.9268 - val_loss: 0.2600 - val_accuracy: 0.9132\n",
            "Epoch 44/100\n",
            "32/32 [==============================] - 1s 40ms/step - loss: 0.1384 - accuracy: 0.9502 - val_loss: 0.2374 - val_accuracy: 0.8904\n",
            "Epoch 45/100\n",
            "32/32 [==============================] - 1s 40ms/step - loss: 0.1904 - accuracy: 0.9176 - val_loss: 0.2706 - val_accuracy: 0.8539\n",
            "Epoch 46/100\n",
            "32/32 [==============================] - 1s 40ms/step - loss: 0.1716 - accuracy: 0.9370 - val_loss: 0.2933 - val_accuracy: 0.8721\n",
            "Epoch 47/100\n",
            "32/32 [==============================] - 1s 38ms/step - loss: 0.1531 - accuracy: 0.9281 - val_loss: 0.2773 - val_accuracy: 0.8721\n",
            "Epoch 48/100\n",
            "32/32 [==============================] - 1s 39ms/step - loss: 0.1625 - accuracy: 0.9392 - val_loss: 0.2556 - val_accuracy: 0.8813\n",
            "Epoch 49/100\n",
            "32/32 [==============================] - 1s 38ms/step - loss: 0.1572 - accuracy: 0.9388 - val_loss: 0.2800 - val_accuracy: 0.8493\n",
            "Epoch 50/100\n",
            "32/32 [==============================] - 1s 40ms/step - loss: 0.1849 - accuracy: 0.9268 - val_loss: 0.2334 - val_accuracy: 0.9087\n",
            "Epoch 51/100\n",
            "32/32 [==============================] - 1s 37ms/step - loss: 0.1637 - accuracy: 0.9243 - val_loss: 0.2368 - val_accuracy: 0.8858\n",
            "Epoch 52/100\n",
            "32/32 [==============================] - 1s 38ms/step - loss: 0.1333 - accuracy: 0.9401 - val_loss: 0.2584 - val_accuracy: 0.8721\n",
            "Epoch 53/100\n",
            "32/32 [==============================] - 1s 39ms/step - loss: 0.1368 - accuracy: 0.9429 - val_loss: 0.2221 - val_accuracy: 0.8995\n",
            "Epoch 54/100\n",
            "32/32 [==============================] - 1s 38ms/step - loss: 0.1618 - accuracy: 0.9277 - val_loss: 0.2730 - val_accuracy: 0.8721\n",
            "Epoch 55/100\n",
            "32/32 [==============================] - 1s 39ms/step - loss: 0.1625 - accuracy: 0.9394 - val_loss: 0.2690 - val_accuracy: 0.8813\n",
            "Epoch 56/100\n",
            "32/32 [==============================] - 1s 39ms/step - loss: 0.1274 - accuracy: 0.9481 - val_loss: 0.2183 - val_accuracy: 0.8950\n",
            "Epoch 57/100\n",
            "32/32 [==============================] - 1s 39ms/step - loss: 0.1386 - accuracy: 0.9454 - val_loss: 0.2373 - val_accuracy: 0.9132\n",
            "Epoch 58/100\n",
            "32/32 [==============================] - 1s 38ms/step - loss: 0.1481 - accuracy: 0.9352 - val_loss: 0.2720 - val_accuracy: 0.8630\n",
            "Epoch 59/100\n",
            "32/32 [==============================] - 1s 38ms/step - loss: 0.1338 - accuracy: 0.9429 - val_loss: 0.3767 - val_accuracy: 0.8402\n",
            "Epoch 60/100\n",
            "32/32 [==============================] - 1s 39ms/step - loss: 0.1969 - accuracy: 0.9162 - val_loss: 0.2655 - val_accuracy: 0.8721\n",
            "Epoch 61/100\n",
            "32/32 [==============================] - 1s 39ms/step - loss: 0.1490 - accuracy: 0.9451 - val_loss: 0.2566 - val_accuracy: 0.8950\n",
            "Epoch 62/100\n",
            "32/32 [==============================] - 1s 39ms/step - loss: 0.1222 - accuracy: 0.9557 - val_loss: 0.2341 - val_accuracy: 0.9087\n",
            "Epoch 63/100\n",
            "32/32 [==============================] - 1s 38ms/step - loss: 0.1202 - accuracy: 0.9490 - val_loss: 0.2656 - val_accuracy: 0.8904\n",
            "Epoch 64/100\n",
            "32/32 [==============================] - 1s 39ms/step - loss: 0.1289 - accuracy: 0.9628 - val_loss: 0.3099 - val_accuracy: 0.8813\n",
            "Epoch 65/100\n",
            "32/32 [==============================] - 1s 38ms/step - loss: 0.1396 - accuracy: 0.9475 - val_loss: 0.2620 - val_accuracy: 0.8858\n",
            "Epoch 66/100\n",
            "32/32 [==============================] - 1s 38ms/step - loss: 0.1506 - accuracy: 0.9473 - val_loss: 0.2530 - val_accuracy: 0.8995\n",
            "Epoch 67/100\n",
            "32/32 [==============================] - 1s 39ms/step - loss: 0.1663 - accuracy: 0.9218 - val_loss: 0.2610 - val_accuracy: 0.8630\n",
            "Epoch 68/100\n",
            "32/32 [==============================] - 1s 38ms/step - loss: 0.1293 - accuracy: 0.9429 - val_loss: 0.2789 - val_accuracy: 0.9132\n",
            "Epoch 69/100\n",
            "32/32 [==============================] - 1s 41ms/step - loss: 0.1940 - accuracy: 0.9217 - val_loss: 0.2488 - val_accuracy: 0.8950\n",
            "Epoch 70/100\n",
            "32/32 [==============================] - 1s 39ms/step - loss: 0.1305 - accuracy: 0.9370 - val_loss: 0.3255 - val_accuracy: 0.9132\n",
            "Epoch 71/100\n",
            "32/32 [==============================] - 1s 38ms/step - loss: 0.1352 - accuracy: 0.9492 - val_loss: 0.2821 - val_accuracy: 0.8813\n",
            "Epoch 72/100\n",
            "32/32 [==============================] - 1s 38ms/step - loss: 0.1363 - accuracy: 0.9443 - val_loss: 0.3218 - val_accuracy: 0.8493\n",
            "Epoch 73/100\n",
            "32/32 [==============================] - 1s 39ms/step - loss: 0.1465 - accuracy: 0.9388 - val_loss: 0.3116 - val_accuracy: 0.8721\n",
            "Epoch 74/100\n",
            "32/32 [==============================] - 1s 38ms/step - loss: 0.1308 - accuracy: 0.9425 - val_loss: 0.3448 - val_accuracy: 0.8950\n",
            "Epoch 75/100\n",
            "32/32 [==============================] - 1s 38ms/step - loss: 0.1018 - accuracy: 0.9644 - val_loss: 0.3532 - val_accuracy: 0.8356\n",
            "Epoch 76/100\n",
            "32/32 [==============================] - 1s 40ms/step - loss: 0.1073 - accuracy: 0.9526 - val_loss: 0.3863 - val_accuracy: 0.8858\n",
            "Epoch 77/100\n",
            "32/32 [==============================] - 1s 39ms/step - loss: 0.1254 - accuracy: 0.9482 - val_loss: 0.3144 - val_accuracy: 0.9041\n",
            "Epoch 78/100\n",
            "32/32 [==============================] - 1s 40ms/step - loss: 0.1494 - accuracy: 0.9280 - val_loss: 0.2682 - val_accuracy: 0.8904\n",
            "Epoch 79/100\n",
            "32/32 [==============================] - 1s 39ms/step - loss: 0.1263 - accuracy: 0.9365 - val_loss: 0.4089 - val_accuracy: 0.8995\n",
            "Epoch 80/100\n",
            "32/32 [==============================] - 1s 39ms/step - loss: 0.2125 - accuracy: 0.9199 - val_loss: 0.2434 - val_accuracy: 0.8813\n",
            "Epoch 81/100\n",
            "32/32 [==============================] - 1s 40ms/step - loss: 0.1313 - accuracy: 0.9485 - val_loss: 0.2879 - val_accuracy: 0.8767\n",
            "Epoch 82/100\n",
            "32/32 [==============================] - 1s 39ms/step - loss: 0.1160 - accuracy: 0.9655 - val_loss: 0.3628 - val_accuracy: 0.8721\n",
            "Epoch 83/100\n",
            "32/32 [==============================] - 1s 39ms/step - loss: 0.1134 - accuracy: 0.9512 - val_loss: 0.2815 - val_accuracy: 0.8995\n",
            "Epoch 84/100\n",
            "32/32 [==============================] - 1s 38ms/step - loss: 0.1108 - accuracy: 0.9582 - val_loss: 0.3181 - val_accuracy: 0.8858\n",
            "Epoch 85/100\n",
            "32/32 [==============================] - 1s 40ms/step - loss: 0.1126 - accuracy: 0.9569 - val_loss: 0.3664 - val_accuracy: 0.8858\n",
            "Epoch 86/100\n",
            "32/32 [==============================] - 1s 39ms/step - loss: 0.1061 - accuracy: 0.9541 - val_loss: 0.3041 - val_accuracy: 0.8493\n",
            "Epoch 87/100\n",
            "32/32 [==============================] - 1s 39ms/step - loss: 0.1102 - accuracy: 0.9548 - val_loss: 0.3507 - val_accuracy: 0.8813\n",
            "Epoch 88/100\n",
            "32/32 [==============================] - 1s 39ms/step - loss: 0.0891 - accuracy: 0.9609 - val_loss: 0.3590 - val_accuracy: 0.9132\n",
            "Epoch 89/100\n",
            "32/32 [==============================] - 1s 39ms/step - loss: 0.1456 - accuracy: 0.9408 - val_loss: 0.2886 - val_accuracy: 0.8950\n",
            "Epoch 90/100\n",
            "32/32 [==============================] - 1s 39ms/step - loss: 0.1196 - accuracy: 0.9531 - val_loss: 0.3660 - val_accuracy: 0.8493\n",
            "Epoch 91/100\n",
            "32/32 [==============================] - 1s 40ms/step - loss: 0.0987 - accuracy: 0.9619 - val_loss: 0.3385 - val_accuracy: 0.8813\n",
            "Epoch 92/100\n",
            "32/32 [==============================] - 1s 40ms/step - loss: 0.1195 - accuracy: 0.9436 - val_loss: 0.3132 - val_accuracy: 0.8584\n",
            "Epoch 93/100\n",
            "32/32 [==============================] - 1s 42ms/step - loss: 0.1230 - accuracy: 0.9515 - val_loss: 0.3509 - val_accuracy: 0.8356\n",
            "Epoch 94/100\n",
            "32/32 [==============================] - 1s 41ms/step - loss: 0.1418 - accuracy: 0.9405 - val_loss: 0.3407 - val_accuracy: 0.8676\n",
            "Epoch 95/100\n",
            "32/32 [==============================] - 1s 38ms/step - loss: 0.0980 - accuracy: 0.9652 - val_loss: 0.3274 - val_accuracy: 0.8950\n",
            "Epoch 96/100\n",
            "32/32 [==============================] - 1s 39ms/step - loss: 0.1154 - accuracy: 0.9515 - val_loss: 0.2444 - val_accuracy: 0.9041\n",
            "Epoch 97/100\n",
            "32/32 [==============================] - 1s 40ms/step - loss: 0.1193 - accuracy: 0.9417 - val_loss: 0.4157 - val_accuracy: 0.8402\n",
            "Epoch 98/100\n",
            "32/32 [==============================] - 1s 40ms/step - loss: 0.1129 - accuracy: 0.9496 - val_loss: 0.3482 - val_accuracy: 0.8950\n",
            "Epoch 99/100\n",
            "32/32 [==============================] - 1s 39ms/step - loss: 0.0863 - accuracy: 0.9661 - val_loss: 0.3512 - val_accuracy: 0.8539\n",
            "Epoch 100/100\n",
            "32/32 [==============================] - 1s 40ms/step - loss: 0.1300 - accuracy: 0.9512 - val_loss: 0.3737 - val_accuracy: 0.8584\n"
          ],
          "name": "stdout"
        }
      ]
    },
    {
      "cell_type": "code",
      "metadata": {
        "colab": {
          "base_uri": "https://localhost:8080/",
          "height": 295
        },
        "id": "AyLr3-t8RDXh",
        "outputId": "e8fef693-b419-4d82-8f30-e22dd39a0a5d"
      },
      "source": [
        "plt.plot(hist_2.history['loss'])\n",
        "plt.plot(hist_2.history['val_loss'])\n",
        "plt.title('Model Loss')\n",
        "plt.ylabel('Loss')\n",
        "plt.xlabel('Epoch')\n",
        "plt.legend(['Train', 'Val'], loc='upper right')\n",
        "plt.show()"
      ],
      "execution_count": 32,
      "outputs": [
        {
          "output_type": "display_data",
          "data": {
            "image/png": "[encoded data removed]",
            "text/plain": [
              "<Figure size 432x288 with 1 Axes>"
            ]
          },
          "metadata": {
            "tags": [],
            "needs_background": "light"
          }
        }
      ]
    },
    {
      "cell_type": "code",
      "metadata": {
        "colab": {
          "base_uri": "https://localhost:8080/",
          "height": 295
        },
        "id": "w8yOvCz-RUwn",
        "outputId": "60eea362-c5a9-43d9-dc18-e4e3ffb489c2"
      },
      "source": [
        "plt.plot(hist_2.history['accuracy'])\n",
        "plt.plot(hist_2.history['val_accuracy'])\n",
        "plt.title('Model Accuracy')\n",
        "plt.ylabel('Accuracy')\n",
        "plt.xlabel('Epoch')\n",
        "plt.legend(['Train', 'Val'], loc='lower right')\n",
        "plt.show()"
      ],
      "execution_count": 34,
      "outputs": [
        {
          "output_type": "display_data",
          "data": {
            "image/png": "[encoded data removed]",
            "text/plain": [
              "<Figure size 432x288 with 1 Axes>"
            ]
          },
          "metadata": {
            "tags": [],
            "needs_background": "light"
          }
        }
      ]
    },
    {
      "cell_type": "code",
      "metadata": {
        "id": "szYWM_quRsj3"
      },
      "source": [
        "model_3 = Sequential([\n",
        "                      Dense(1000, activation='relu', kernel_regularizer=regularizers.l2(0.01), input_shape=(10,)),\n",
        "                      Dropout(0.3),\n",
        "                      Dense(1000, activation='relu', kernel_regularizer=regularizers.l2(0.01)),\n",
        "                      Dropout(0.3),\n",
        "                      Dense(1000, activation='relu', kernel_regularizer=regularizers.l2(0.01)),\n",
        "                      Dropout(0.3),\n",
        "                      Dense(1000, activation='relu', kernel_regularizer=regularizers.l2(0.01)),\n",
        "                      Dropout(0.3),\n",
        "                      Dense(1, activation='sigmoid', kernel_regularizer=regularizers.l2(0.01)),\n",
        "])"
      ],
      "execution_count": 37,
      "outputs": []
    },
    {
      "cell_type": "code",
      "metadata": {
        "id": "Yq-QvwpKSbJm"
      },
      "source": [
        "model_3.compile(optimizer='adam',\n",
        "                loss='binary_crossentropy',\n",
        "                metrics=['accuracy'])"
      ],
      "execution_count": 38,
      "outputs": []
    },
    {
      "cell_type": "code",
      "metadata": {
        "colab": {
          "base_uri": "https://localhost:8080/"
        },
        "id": "J7lvHYM0SikX",
        "outputId": "d37b0672-7466-4864-f17c-2f7924e1ee68"
      },
      "source": [
        "hist_3 = model_3.fit(X_train, Y_train,\n",
        "                     batch_size=32, epochs=100,\n",
        "                     validation_data=(X_val, Y_val))"
      ],
      "execution_count": 40,
      "outputs": [
        {
          "output_type": "stream",
          "text": [
            "Epoch 1/100\n",
            "32/32 [==============================] - 4s 68ms/step - loss: 21.1137 - accuracy: 0.5218 - val_loss: 3.9135 - val_accuracy: 0.8219\n",
            "Epoch 2/100\n",
            "32/32 [==============================] - 2s 51ms/step - loss: 2.5287 - accuracy: 0.7810 - val_loss: 0.6445 - val_accuracy: 0.8493\n",
            "Epoch 3/100\n",
            "32/32 [==============================] - 2s 51ms/step - loss: 0.6121 - accuracy: 0.8498 - val_loss: 0.5111 - val_accuracy: 0.8584\n",
            "Epoch 4/100\n",
            "32/32 [==============================] - 2s 50ms/step - loss: 0.4967 - accuracy: 0.8816 - val_loss: 0.4712 - val_accuracy: 0.8676\n",
            "Epoch 5/100\n",
            "32/32 [==============================] - 2s 50ms/step - loss: 0.5129 - accuracy: 0.8568 - val_loss: 0.5144 - val_accuracy: 0.8539\n",
            "Epoch 6/100\n",
            "32/32 [==============================] - 2s 51ms/step - loss: 0.5196 - accuracy: 0.8641 - val_loss: 0.4272 - val_accuracy: 0.8904\n",
            "Epoch 7/100\n",
            "32/32 [==============================] - 2s 51ms/step - loss: 0.5013 - accuracy: 0.8778 - val_loss: 0.4382 - val_accuracy: 0.8858\n",
            "Epoch 8/100\n",
            "32/32 [==============================] - 2s 52ms/step - loss: 0.4781 - accuracy: 0.8820 - val_loss: 0.4309 - val_accuracy: 0.8904\n",
            "Epoch 9/100\n",
            "32/32 [==============================] - 2s 52ms/step - loss: 0.4659 - accuracy: 0.8835 - val_loss: 0.4434 - val_accuracy: 0.8767\n",
            "Epoch 10/100\n",
            "32/32 [==============================] - 2s 53ms/step - loss: 0.4888 - accuracy: 0.8687 - val_loss: 0.4306 - val_accuracy: 0.8995\n",
            "Epoch 11/100\n",
            "32/32 [==============================] - 2s 53ms/step - loss: 0.4439 - accuracy: 0.8813 - val_loss: 0.5252 - val_accuracy: 0.8311\n",
            "Epoch 12/100\n",
            "32/32 [==============================] - 2s 50ms/step - loss: 0.4626 - accuracy: 0.8797 - val_loss: 0.4196 - val_accuracy: 0.8995\n",
            "Epoch 13/100\n",
            "32/32 [==============================] - 2s 50ms/step - loss: 0.4687 - accuracy: 0.8665 - val_loss: 0.4375 - val_accuracy: 0.8676\n",
            "Epoch 14/100\n",
            "32/32 [==============================] - 2s 52ms/step - loss: 0.4597 - accuracy: 0.8833 - val_loss: 0.4127 - val_accuracy: 0.8950\n",
            "Epoch 15/100\n",
            "32/32 [==============================] - 2s 52ms/step - loss: 0.4446 - accuracy: 0.8968 - val_loss: 0.4224 - val_accuracy: 0.8858\n",
            "Epoch 16/100\n",
            "32/32 [==============================] - 2s 54ms/step - loss: 0.4387 - accuracy: 0.8871 - val_loss: 0.4587 - val_accuracy: 0.8676\n",
            "Epoch 17/100\n",
            "32/32 [==============================] - 2s 53ms/step - loss: 0.4463 - accuracy: 0.8845 - val_loss: 0.4321 - val_accuracy: 0.8721\n",
            "Epoch 18/100\n",
            "32/32 [==============================] - 2s 53ms/step - loss: 0.4570 - accuracy: 0.8797 - val_loss: 0.3972 - val_accuracy: 0.8950\n",
            "Epoch 19/100\n",
            "32/32 [==============================] - 2s 51ms/step - loss: 0.4604 - accuracy: 0.8958 - val_loss: 0.4385 - val_accuracy: 0.8721\n",
            "Epoch 20/100\n",
            "32/32 [==============================] - 2s 52ms/step - loss: 0.5002 - accuracy: 0.8603 - val_loss: 0.4421 - val_accuracy: 0.8630\n",
            "Epoch 21/100\n",
            "32/32 [==============================] - 2s 52ms/step - loss: 0.4334 - accuracy: 0.8876 - val_loss: 0.3978 - val_accuracy: 0.9041\n",
            "Epoch 22/100\n",
            "32/32 [==============================] - 2s 51ms/step - loss: 0.4160 - accuracy: 0.9114 - val_loss: 0.4226 - val_accuracy: 0.8858\n",
            "Epoch 23/100\n",
            "32/32 [==============================] - 2s 51ms/step - loss: 0.4577 - accuracy: 0.8878 - val_loss: 0.4062 - val_accuracy: 0.8995\n",
            "Epoch 24/100\n",
            "32/32 [==============================] - 2s 51ms/step - loss: 0.4924 - accuracy: 0.8492 - val_loss: 0.4925 - val_accuracy: 0.8584\n",
            "Epoch 25/100\n",
            "32/32 [==============================] - 2s 49ms/step - loss: 0.4536 - accuracy: 0.8894 - val_loss: 0.4146 - val_accuracy: 0.8904\n",
            "Epoch 26/100\n",
            "32/32 [==============================] - 2s 50ms/step - loss: 0.4644 - accuracy: 0.8840 - val_loss: 0.4242 - val_accuracy: 0.8813\n",
            "Epoch 27/100\n",
            "32/32 [==============================] - 2s 52ms/step - loss: 0.4399 - accuracy: 0.8900 - val_loss: 0.3973 - val_accuracy: 0.8950\n",
            "Epoch 28/100\n",
            "32/32 [==============================] - 2s 51ms/step - loss: 0.4347 - accuracy: 0.8782 - val_loss: 0.4215 - val_accuracy: 0.8858\n",
            "Epoch 29/100\n",
            "32/32 [==============================] - 2s 55ms/step - loss: 0.4513 - accuracy: 0.8782 - val_loss: 0.4108 - val_accuracy: 0.8950\n",
            "Epoch 30/100\n",
            "32/32 [==============================] - 2s 52ms/step - loss: 0.4654 - accuracy: 0.8671 - val_loss: 0.3968 - val_accuracy: 0.8950\n",
            "Epoch 31/100\n",
            "32/32 [==============================] - 2s 49ms/step - loss: 0.4464 - accuracy: 0.8831 - val_loss: 0.4157 - val_accuracy: 0.8904\n",
            "Epoch 32/100\n",
            "32/32 [==============================] - 2s 50ms/step - loss: 0.4279 - accuracy: 0.8983 - val_loss: 0.4075 - val_accuracy: 0.8950\n",
            "Epoch 33/100\n",
            "32/32 [==============================] - 2s 52ms/step - loss: 0.4549 - accuracy: 0.8794 - val_loss: 0.5208 - val_accuracy: 0.8356\n",
            "Epoch 34/100\n",
            "32/32 [==============================] - 2s 50ms/step - loss: 0.4961 - accuracy: 0.8728 - val_loss: 0.4160 - val_accuracy: 0.8904\n",
            "Epoch 35/100\n",
            "32/32 [==============================] - 2s 52ms/step - loss: 0.4772 - accuracy: 0.8645 - val_loss: 0.4297 - val_accuracy: 0.8767\n",
            "Epoch 36/100\n",
            "32/32 [==============================] - 2s 53ms/step - loss: 0.4311 - accuracy: 0.8902 - val_loss: 0.4113 - val_accuracy: 0.8904\n",
            "Epoch 37/100\n",
            "32/32 [==============================] - 2s 54ms/step - loss: 0.4439 - accuracy: 0.8868 - val_loss: 0.3890 - val_accuracy: 0.8904\n",
            "Epoch 38/100\n",
            "32/32 [==============================] - 2s 52ms/step - loss: 0.4421 - accuracy: 0.8795 - val_loss: 0.4350 - val_accuracy: 0.8721\n",
            "Epoch 39/100\n",
            "32/32 [==============================] - 2s 53ms/step - loss: 0.4918 - accuracy: 0.8583 - val_loss: 0.4511 - val_accuracy: 0.8721\n",
            "Epoch 40/100\n",
            "32/32 [==============================] - 2s 51ms/step - loss: 0.4711 - accuracy: 0.8637 - val_loss: 0.3910 - val_accuracy: 0.8904\n",
            "Epoch 41/100\n",
            "32/32 [==============================] - 2s 53ms/step - loss: 0.4233 - accuracy: 0.9033 - val_loss: 0.4452 - val_accuracy: 0.8676\n",
            "Epoch 42/100\n",
            "32/32 [==============================] - 2s 51ms/step - loss: 0.4434 - accuracy: 0.8801 - val_loss: 0.3983 - val_accuracy: 0.8950\n",
            "Epoch 43/100\n",
            "32/32 [==============================] - 2s 51ms/step - loss: 0.4484 - accuracy: 0.8895 - val_loss: 0.4508 - val_accuracy: 0.8721\n",
            "Epoch 44/100\n",
            "32/32 [==============================] - 2s 52ms/step - loss: 0.4532 - accuracy: 0.8698 - val_loss: 0.3913 - val_accuracy: 0.8995\n",
            "Epoch 45/100\n",
            "32/32 [==============================] - 2s 53ms/step - loss: 0.4364 - accuracy: 0.8983 - val_loss: 0.3903 - val_accuracy: 0.8904\n",
            "Epoch 46/100\n",
            "32/32 [==============================] - 2s 54ms/step - loss: 0.4267 - accuracy: 0.8905 - val_loss: 0.3949 - val_accuracy: 0.9041\n",
            "Epoch 47/100\n",
            "32/32 [==============================] - 2s 54ms/step - loss: 0.4509 - accuracy: 0.8794 - val_loss: 0.3976 - val_accuracy: 0.8995\n",
            "Epoch 48/100\n",
            "32/32 [==============================] - 2s 51ms/step - loss: 0.4242 - accuracy: 0.8935 - val_loss: 0.4023 - val_accuracy: 0.8950\n",
            "Epoch 49/100\n",
            "32/32 [==============================] - 2s 52ms/step - loss: 0.4458 - accuracy: 0.8856 - val_loss: 0.3940 - val_accuracy: 0.9041\n",
            "Epoch 50/100\n",
            "32/32 [==============================] - 2s 52ms/step - loss: 0.4279 - accuracy: 0.8910 - val_loss: 0.4402 - val_accuracy: 0.8767\n",
            "Epoch 51/100\n",
            "32/32 [==============================] - 2s 54ms/step - loss: 0.4388 - accuracy: 0.8898 - val_loss: 0.4038 - val_accuracy: 0.8904\n",
            "Epoch 52/100\n",
            "32/32 [==============================] - 2s 52ms/step - loss: 0.4324 - accuracy: 0.8919 - val_loss: 0.4016 - val_accuracy: 0.8995\n",
            "Epoch 53/100\n",
            "32/32 [==============================] - 2s 52ms/step - loss: 0.4317 - accuracy: 0.8996 - val_loss: 0.3877 - val_accuracy: 0.8995\n",
            "Epoch 54/100\n",
            "32/32 [==============================] - 2s 51ms/step - loss: 0.4525 - accuracy: 0.8906 - val_loss: 0.3943 - val_accuracy: 0.9041\n",
            "Epoch 55/100\n",
            "32/32 [==============================] - 2s 52ms/step - loss: 0.4452 - accuracy: 0.8735 - val_loss: 0.4492 - val_accuracy: 0.8767\n",
            "Epoch 56/100\n",
            "32/32 [==============================] - 2s 51ms/step - loss: 0.4693 - accuracy: 0.8709 - val_loss: 0.3882 - val_accuracy: 0.8995\n",
            "Epoch 57/100\n",
            "32/32 [==============================] - 2s 52ms/step - loss: 0.4278 - accuracy: 0.8993 - val_loss: 0.4176 - val_accuracy: 0.8813\n",
            "Epoch 58/100\n",
            "32/32 [==============================] - 2s 51ms/step - loss: 0.4449 - accuracy: 0.8865 - val_loss: 0.5292 - val_accuracy: 0.8265\n",
            "Epoch 59/100\n",
            "32/32 [==============================] - 2s 52ms/step - loss: 0.4456 - accuracy: 0.8904 - val_loss: 0.3992 - val_accuracy: 0.8950\n",
            "Epoch 60/100\n",
            "32/32 [==============================] - 2s 50ms/step - loss: 0.4349 - accuracy: 0.8857 - val_loss: 0.4049 - val_accuracy: 0.8995\n",
            "Epoch 61/100\n",
            "32/32 [==============================] - 2s 51ms/step - loss: 0.4182 - accuracy: 0.8933 - val_loss: 0.3991 - val_accuracy: 0.8904\n",
            "Epoch 62/100\n",
            "32/32 [==============================] - 2s 52ms/step - loss: 0.4543 - accuracy: 0.8735 - val_loss: 0.4092 - val_accuracy: 0.8950\n",
            "Epoch 63/100\n",
            "32/32 [==============================] - 2s 51ms/step - loss: 0.4404 - accuracy: 0.8831 - val_loss: 0.4078 - val_accuracy: 0.8950\n",
            "Epoch 64/100\n",
            "32/32 [==============================] - 2s 52ms/step - loss: 0.4550 - accuracy: 0.8837 - val_loss: 0.3933 - val_accuracy: 0.8950\n",
            "Epoch 65/100\n",
            "32/32 [==============================] - 2s 52ms/step - loss: 0.4070 - accuracy: 0.9067 - val_loss: 0.4187 - val_accuracy: 0.8721\n",
            "Epoch 66/100\n",
            "32/32 [==============================] - 2s 51ms/step - loss: 0.4216 - accuracy: 0.9102 - val_loss: 0.4371 - val_accuracy: 0.8813\n",
            "Epoch 67/100\n",
            "32/32 [==============================] - 2s 50ms/step - loss: 0.4224 - accuracy: 0.8890 - val_loss: 0.3941 - val_accuracy: 0.8995\n",
            "Epoch 68/100\n",
            "32/32 [==============================] - 2s 50ms/step - loss: 0.4505 - accuracy: 0.8826 - val_loss: 0.4936 - val_accuracy: 0.8539\n",
            "Epoch 69/100\n",
            "32/32 [==============================] - 2s 51ms/step - loss: 0.4530 - accuracy: 0.8840 - val_loss: 0.3935 - val_accuracy: 0.8950\n",
            "Epoch 70/100\n",
            "32/32 [==============================] - 2s 51ms/step - loss: 0.4397 - accuracy: 0.8907 - val_loss: 0.4114 - val_accuracy: 0.8813\n",
            "Epoch 71/100\n",
            "32/32 [==============================] - 2s 51ms/step - loss: 0.4348 - accuracy: 0.8787 - val_loss: 0.3923 - val_accuracy: 0.8950\n",
            "Epoch 72/100\n",
            "32/32 [==============================] - 2s 53ms/step - loss: 0.4073 - accuracy: 0.9066 - val_loss: 0.4042 - val_accuracy: 0.8950\n",
            "Epoch 73/100\n",
            "32/32 [==============================] - 2s 53ms/step - loss: 0.4683 - accuracy: 0.8620 - val_loss: 0.4163 - val_accuracy: 0.8721\n",
            "Epoch 74/100\n",
            "32/32 [==============================] - 2s 52ms/step - loss: 0.4384 - accuracy: 0.8794 - val_loss: 0.3883 - val_accuracy: 0.9041\n",
            "Epoch 75/100\n",
            "32/32 [==============================] - 2s 50ms/step - loss: 0.4464 - accuracy: 0.8881 - val_loss: 0.3909 - val_accuracy: 0.8950\n",
            "Epoch 76/100\n",
            "32/32 [==============================] - 2s 51ms/step - loss: 0.4393 - accuracy: 0.8824 - val_loss: 0.4662 - val_accuracy: 0.8584\n",
            "Epoch 77/100\n",
            "32/32 [==============================] - 2s 50ms/step - loss: 0.4448 - accuracy: 0.8837 - val_loss: 0.3890 - val_accuracy: 0.8995\n",
            "Epoch 78/100\n",
            "32/32 [==============================] - 2s 51ms/step - loss: 0.4242 - accuracy: 0.8881 - val_loss: 0.4961 - val_accuracy: 0.8493\n",
            "Epoch 79/100\n",
            "32/32 [==============================] - 2s 51ms/step - loss: 0.4348 - accuracy: 0.8801 - val_loss: 0.4056 - val_accuracy: 0.9041\n",
            "Epoch 80/100\n",
            "32/32 [==============================] - 2s 51ms/step - loss: 0.4430 - accuracy: 0.8773 - val_loss: 0.3874 - val_accuracy: 0.8995\n",
            "Epoch 81/100\n",
            "32/32 [==============================] - 2s 50ms/step - loss: 0.4212 - accuracy: 0.8888 - val_loss: 0.4118 - val_accuracy: 0.8904\n",
            "Epoch 82/100\n",
            "32/32 [==============================] - 2s 52ms/step - loss: 0.4264 - accuracy: 0.8889 - val_loss: 0.4459 - val_accuracy: 0.8767\n",
            "Epoch 83/100\n",
            "32/32 [==============================] - 2s 56ms/step - loss: 0.4483 - accuracy: 0.8762 - val_loss: 0.4194 - val_accuracy: 0.8721\n",
            "Epoch 84/100\n",
            "32/32 [==============================] - 2s 52ms/step - loss: 0.4247 - accuracy: 0.8985 - val_loss: 0.4048 - val_accuracy: 0.8950\n",
            "Epoch 85/100\n",
            "32/32 [==============================] - 2s 52ms/step - loss: 0.4502 - accuracy: 0.8664 - val_loss: 0.3924 - val_accuracy: 0.8995\n",
            "Epoch 86/100\n",
            "32/32 [==============================] - 2s 52ms/step - loss: 0.4241 - accuracy: 0.8936 - val_loss: 0.3999 - val_accuracy: 0.8995\n",
            "Epoch 87/100\n",
            "32/32 [==============================] - 2s 52ms/step - loss: 0.4482 - accuracy: 0.8877 - val_loss: 0.4500 - val_accuracy: 0.8767\n",
            "Epoch 88/100\n",
            "32/32 [==============================] - 2s 53ms/step - loss: 0.4520 - accuracy: 0.8838 - val_loss: 0.3881 - val_accuracy: 0.8950\n",
            "Epoch 89/100\n",
            "32/32 [==============================] - 2s 54ms/step - loss: 0.4820 - accuracy: 0.8709 - val_loss: 0.3998 - val_accuracy: 0.8950\n",
            "Epoch 90/100\n",
            "32/32 [==============================] - 2s 56ms/step - loss: 0.4299 - accuracy: 0.8870 - val_loss: 0.3932 - val_accuracy: 0.8950\n",
            "Epoch 91/100\n",
            "32/32 [==============================] - 2s 56ms/step - loss: 0.4541 - accuracy: 0.8679 - val_loss: 0.3880 - val_accuracy: 0.8904\n",
            "Epoch 92/100\n",
            "32/32 [==============================] - 2s 52ms/step - loss: 0.4636 - accuracy: 0.8747 - val_loss: 0.4064 - val_accuracy: 0.8858\n",
            "Epoch 93/100\n",
            "32/32 [==============================] - 2s 53ms/step - loss: 0.4165 - accuracy: 0.9033 - val_loss: 0.3950 - val_accuracy: 0.8995\n",
            "Epoch 94/100\n",
            "32/32 [==============================] - 2s 55ms/step - loss: 0.4232 - accuracy: 0.9024 - val_loss: 0.3999 - val_accuracy: 0.8995\n",
            "Epoch 95/100\n",
            "32/32 [==============================] - 2s 55ms/step - loss: 0.4501 - accuracy: 0.8889 - val_loss: 0.4032 - val_accuracy: 0.8904\n",
            "Epoch 96/100\n",
            "32/32 [==============================] - 2s 53ms/step - loss: 0.4368 - accuracy: 0.8805 - val_loss: 0.3923 - val_accuracy: 0.8995\n",
            "Epoch 97/100\n",
            "32/32 [==============================] - 2s 54ms/step - loss: 0.4608 - accuracy: 0.8841 - val_loss: 0.4130 - val_accuracy: 0.8813\n",
            "Epoch 98/100\n",
            "32/32 [==============================] - 2s 53ms/step - loss: 0.4442 - accuracy: 0.8950 - val_loss: 0.4092 - val_accuracy: 0.8950\n",
            "Epoch 99/100\n",
            "32/32 [==============================] - 2s 56ms/step - loss: 0.4414 - accuracy: 0.8811 - val_loss: 0.4100 - val_accuracy: 0.8813\n",
            "Epoch 100/100\n",
            "32/32 [==============================] - 2s 53ms/step - loss: 0.4546 - accuracy: 0.8837 - val_loss: 0.4097 - val_accuracy: 0.8813\n"
          ],
          "name": "stdout"
        }
      ]
    },
    {
      "cell_type": "code",
      "metadata": {
        "colab": {
          "base_uri": "https://localhost:8080/",
          "height": 295
        },
        "id": "rgqzX3hGTdLs",
        "outputId": "88fff973-4b1b-4bc9-e6cc-fc2cccf3ad86"
      },
      "source": [
        "plt.plot(hist_3.history['loss'])\n",
        "plt.plot(hist_3.history['val_loss'])\n",
        "plt.title('Model Loss')\n",
        "plt.ylabel('Loss')\n",
        "plt.xlabel('Epoch')\n",
        "plt.legend(['Train', 'Val'], loc='upper right')\n",
        "plt.ylim(top=1.2, bottom=0)\n",
        "plt.show()"
      ],
      "execution_count": 41,
      "outputs": [
        {
          "output_type": "display_data",
          "data": {
            "image/png": "[encoded data removed]",
            "text/plain": [
              "<Figure size 432x288 with 1 Axes>"
            ]
          },
          "metadata": {
            "tags": [],
            "needs_background": "light"
          }
        }
      ]
    },
    {
      "cell_type": "code",
      "metadata": {
        "colab": {
          "base_uri": "https://localhost:8080/",
          "height": 295
        },
        "id": "4YCg74JnTyDk",
        "outputId": "102008ab-be69-49a7-945f-7be4f2bd290e"
      },
      "source": [
        "plt.plot(hist_3.history['accuracy'])\n",
        "plt.plot(hist_3.history['val_accuracy'])\n",
        "plt.title('Model Accuracy')\n",
        "plt.ylabel('Accuracy')\n",
        "plt.xlabel('Epoch')\n",
        "plt.legend(['Train', 'Val'], loc='lower right')\n",
        "plt.show()"
      ],
      "execution_count": 42,
      "outputs": [
        {
          "output_type": "display_data",
          "data": {
            "image/png": "[encoded data removed]",
            "text/plain": [
              "<Figure size 432x288 with 1 Axes>"
            ]
          },
          "metadata": {
            "tags": [],
            "needs_background": "light"
          }
        }
      ]
    }
  ]
}