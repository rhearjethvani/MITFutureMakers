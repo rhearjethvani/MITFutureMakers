{
  "nbformat": 4,
  "nbformat_minor": 0,
  "metadata": {
    "colab": {
      "name": "classifyingMNISTDatasetsCNN.ipynb",
      "provenance": [],
      "authorship_tag": "ABX9TyNe7SOCvcnoL/99d/wcU1o7",
      "include_colab_link": true
    },
    "kernelspec": {
      "name": "python3",
      "display_name": "Python 3"
    },
    "language_info": {
      "name": "python"
    }
  },
  "cells": [
    {
      "cell_type": "markdown",
      "metadata": {
        "id": "view-in-github",
        "colab_type": "text"
      },
      "source": [
        "<a href=\"https://colab.research.google.com/github/rhearjethvani/MITFutureMakers/blob/main/classifyingMNISTDatasetsCNN/classifyingMNISTDatasetsCNN.ipynb\" target=\"_parent\"><img src=\"https://colab.research.google.com/assets/colab-badge.svg\" alt=\"Open In Colab\"/></a>"
      ]
    },
    {
      "cell_type": "code",
      "metadata": {
        "id": "TEXkkJc4h2UW"
      },
      "source": [
        "from numpy import mean\n",
        "from numpy import std\n",
        "from matplotlib import pyplot\n",
        "from sklearn.model_selection import KFold\n",
        "from keras.datasets import mnist\n",
        "from tensorflow.keras.utils import to_categorical\n",
        "from keras.models import Sequential\n",
        "from keras.layers import Conv2D\n",
        "from keras.layers import MaxPooling2D\n",
        "from keras.layers import Dense\n",
        "from keras.layers import Flatten\n",
        "from keras.optimizers import SGD"
      ],
      "execution_count": 5,
      "outputs": []
    },
    {
      "cell_type": "code",
      "metadata": {
        "id": "mk9vrI-8l3eX"
      },
      "source": [
        "def load_dataset():\n",
        "  (trainX, trainY), (testX, testY) = mnist.load_data()\n",
        "\n",
        "  trainX = trainX.reshape((-1, 28, 28, 1))\n",
        "  testX = testX.reshape((-1, 28, 28, 1))\n",
        "\n",
        "  trainY = to_categorical(trainY)\n",
        "  testY = to_categorical(testY)\n",
        "\n",
        "  return trainX, trainY, testX, testY"
      ],
      "execution_count": 7,
      "outputs": []
    },
    {
      "cell_type": "code",
      "metadata": {
        "id": "3k9o0q-ynUKD"
      },
      "source": [
        "def prep_pixels(train, test):\n",
        "  train_norm = train.astype('float32')\n",
        "  test_norm = test.astype('float32')\n",
        "\n",
        "  train_norm = train_norm/255.0\n",
        "  test_norm = test_norm/255.0\n",
        "\n",
        "  return train_norm, test_norm"
      ],
      "execution_count": 9,
      "outputs": []
    },
    {
      "cell_type": "code",
      "metadata": {
        "id": "Xvk3zx9loH2l"
      },
      "source": [
        "def define_model():\n",
        "  model = Sequential()\n",
        "  model.add(Conv2D(32, (3, 3), activation='relu', kernel_initializer='he_uniform', input_shape=(28, 28, 1)))\n",
        "  model.add(MaxPooling2D((2, 2)))\n",
        "  model.add(Flatten())\n",
        "  model.add(Dense(100, activation='relu', kernel_initializer='he_uniform'))\n",
        "  model.add(Dense(10, activation='softmax'))\n",
        "\n",
        "  opt = SGD(learning_rate=0.1, momentum=0.9)\n",
        "  model.compile(optimizer=opt, loss='categorical_crossentropy', metrics=['accuracy'])\n",
        "  \n",
        "  return model"
      ],
      "execution_count": 10,
      "outputs": []
    },
    {
      "cell_type": "code",
      "metadata": {
        "id": "BGTpUCBrpRQd"
      },
      "source": [
        "def evaluate_model(dataX, dataY, n_folds=5):\n",
        "  scores, histories = list(), list()\n",
        "  kfold = KFold(n_folds, shuffle=True, random_state=1)\n",
        "\n",
        "  for train_ix, test_ix in kfold.split(dataX):\n",
        "    model = define_model()\n",
        "    trainX, trainY, testX, testY = dataX[train_ix], dataY[train_ix], dataX[test_ix], dataY[test_ix]\n",
        "    history = model.fit(trainX, trainY, epochs=10, batch_size=32, validation_data=(testX, testY), verbose=0)\n",
        "    _, acc = model.evaluate(testX, testY, verbose=0)\n",
        "    print('> %0.3f' % (acc*100.0))\n",
        "    scores.append(acc)\n",
        "    histories.append(history)\n",
        "    return scores, histories"
      ],
      "execution_count": 18,
      "outputs": []
    },
    {
      "cell_type": "code",
      "metadata": {
        "id": "45HYnCP1tfVd"
      },
      "source": [
        "def summarize_diagnostics(histories):\n",
        "  for i in range(len(histories)):\n",
        "    pyplot.subplot(2, 1, 1)\n",
        "    pyplot.title('Cross Entropy Loss')\n",
        "    pyplot.plot(histories[i].history['loss'], color='blue', label='train')\n",
        "    pyplot.plot(histories[i].history['val_loss'], color='orange', label='test')\n",
        "    pyplot.subplot(2, 1, 2)\n",
        "    pyplot.title('Classification Accuracy')\n",
        "    pyplot.plot(histories[i].history['accuracy'], color='blue', label='train')\n",
        "    pyplot.plot(histories[i].history['val_accuracy'], color='orange', label='test')\n",
        "    pyplot.show()"
      ],
      "execution_count": 19,
      "outputs": []
    },
    {
      "cell_type": "code",
      "metadata": {
        "id": "q3c-dq8Mu_JZ"
      },
      "source": [
        "def summarize_performance(scores):\n",
        "  print('Accuracy: mean=%0.3f std=%0.3f, n=%d' % (mean(scores)*100, std(scores)*100, len(scores)))\n",
        "  pyplot.boxplot(scores)\n",
        "  pyplot.show()"
      ],
      "execution_count": 20,
      "outputs": []
    },
    {
      "cell_type": "code",
      "metadata": {
        "id": "uFlx2dQyvlpg"
      },
      "source": [
        "def run_test_harness():\n",
        "  trainX, trainY, testX, testY = load_dataset()\n",
        "  trainX, testX = prep_pixels(trainX, testX)\n",
        "  scores, histories = evaluate_model(trainX, trainY)\n",
        "  summarize_diagnostics(histories)\n",
        "  summarize_performance(scores)"
      ],
      "execution_count": 21,
      "outputs": []
    },
    {
      "cell_type": "code",
      "metadata": {
        "colab": {
          "base_uri": "https://localhost:8080/",
          "height": 567
        },
        "id": "wIWlINn9wNZP",
        "outputId": "862fcda7-f354-417e-ce2d-85410cbaddf5"
      },
      "source": [
        "run_test_harness()"
      ],
      "execution_count": 23,
      "outputs": [
        {
          "output_type": "stream",
          "text": [
            "> 96.717\n"
          ],
          "name": "stdout"
        },
        {
          "output_type": "display_data",
          "data": {
            "image/png": "[encoded data removed]",
            "text/plain": [
              "<Figure size 432x288 with 2 Axes>"
            ]
          },
          "metadata": {
            "tags": [],
            "needs_background": "light"
          }
        },
        {
          "output_type": "stream",
          "text": [
            "Accuracy: mean=96.717 std=0.000, n=1\n"
          ],
          "name": "stdout"
        },
        {
          "output_type": "display_data",
          "data": {
            "image/png": "[encoded data removed]",
            "text/plain": [
              "<Figure size 432x288 with 1 Axes>"
            ]
          },
          "metadata": {
            "tags": [],
            "needs_background": "light"
          }
        }
      ]
    }
  ]
}