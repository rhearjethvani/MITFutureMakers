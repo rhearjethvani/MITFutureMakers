{
  "nbformat": 4,
  "nbformat_minor": 0,
  "metadata": {
    "colab": {
      "name": "mnistClassification.ipynb",
      "provenance": [],
      "authorship_tag": "ABX9TyO83VesndYtFrYs/W4xiU8T",
      "include_colab_link": true
    },
    "kernelspec": {
      "name": "python3",
      "display_name": "Python 3"
    },
    "language_info": {
      "name": "python"
    }
  },
  "cells": [
    {
      "cell_type": "markdown",
      "metadata": {
        "id": "view-in-github",
        "colab_type": "text"
      },
      "source": [
        "<a href=\"https://colab.research.google.com/github/rhearjethvani/MITFutureMakers/blob/main/mnistClassification/mnistClassification.ipynb\" target=\"_parent\"><img src=\"https://colab.research.google.com/assets/colab-badge.svg\" alt=\"Open In Colab\"/></a>"
      ]
    },
    {
      "cell_type": "code",
      "metadata": {
        "id": "aHRCAhdGX2i6"
      },
      "source": [
        "import numpy as np\n",
        "import pandas as pd\n",
        "\n",
        "import seaborn as sns\n",
        "import matplotlib.pyplot as plt\n",
        "\n",
        "from sklearn.model_selection import train_test_split\n",
        "from sklearn.metrics import confusion_matrix\n",
        "\n",
        "from keras.models import Sequential\n",
        "from keras.layers import Conv2D, MaxPool2D, Flatten, Dropout, Dense\n",
        "from keras.optimizers import Adam, SGD\n",
        "\n",
        "from tensorflow.keras.datasets import mnist\n",
        "import tensorflow as tf"
      ],
      "execution_count": 1,
      "outputs": []
    },
    {
      "cell_type": "code",
      "metadata": {
        "colab": {
          "base_uri": "https://localhost:8080/"
        },
        "id": "n-Q77OAwZCCa",
        "outputId": "bbf70279-6183-42c2-8105-86a64cd71539"
      },
      "source": [
        "(X_train, y_train), (X_test, y_test) = mnist.load_data()\n",
        "\n",
        "print(X_train.shape, y_train.shape)\n",
        "print(X_test.shape, y_test.shape)"
      ],
      "execution_count": 2,
      "outputs": [
        {
          "output_type": "stream",
          "text": [
            "Downloading data from https://storage.googleapis.com/tensorflow/tf-keras-datasets/mnist.npz\n",
            "11493376/11490434 [==============================] - 0s 0us/step\n",
            "(60000, 28, 28) (60000,)\n",
            "(10000, 28, 28) (10000,)\n"
          ],
          "name": "stdout"
        }
      ]
    },
    {
      "cell_type": "code",
      "metadata": {
        "colab": {
          "base_uri": "https://localhost:8080/"
        },
        "id": "wOxxgWJ7ai3h",
        "outputId": "e3cc1b9f-13ca-4a57-86f9-9d2d6f9fa415"
      },
      "source": [
        "print(\"X_train\", X_train.shape)\n",
        "print(\"X_train\", X_test.shape)"
      ],
      "execution_count": 3,
      "outputs": [
        {
          "output_type": "stream",
          "text": [
            "X_train (60000, 28, 28)\n",
            "X_train (10000, 28, 28)\n"
          ],
          "name": "stdout"
        }
      ]
    },
    {
      "cell_type": "code",
      "metadata": {
        "colab": {
          "base_uri": "https://localhost:8080/",
          "height": 406
        },
        "id": "D1BFn7dha2lj",
        "outputId": "391a907c-de71-4807-8d22-42d532e0695c"
      },
      "source": [
        "plt.figure(figsize=(5,5))\n",
        "g = sns.countplot(y_train, palette=\"icefire\")\n",
        "plt.xlabel(\"Classes\")\n",
        "plt.ylabel(\"Counts\")"
      ],
      "execution_count": 4,
      "outputs": [
        {
          "output_type": "stream",
          "text": [
            "/usr/local/lib/python3.7/dist-packages/seaborn/_decorators.py:43: FutureWarning: Pass the following variable as a keyword arg: x. From version 0.12, the only valid positional argument will be `data`, and passing other arguments without an explicit keyword will result in an error or misinterpretation.\n",
            "  FutureWarning\n"
          ],
          "name": "stderr"
        },
        {
          "output_type": "execute_result",
          "data": {
            "text/plain": [
              "Text(0, 0.5, 'Counts')"
            ]
          },
          "metadata": {
            "tags": []
          },
          "execution_count": 4
        },
        {
          "output_type": "display_data",
          "data": {
            "image/png": "[encoded data removed]",
            "text/plain": [
              "<Figure size 360x360 with 1 Axes>"
            ]
          },
          "metadata": {
            "tags": [],
            "needs_background": "light"
          }
        }
      ]
    },
    {
      "cell_type": "code",
      "metadata": {
        "colab": {
          "base_uri": "https://localhost:8080/",
          "height": 337
        },
        "id": "hZlr3wHjc2wS",
        "outputId": "9c8ae731-8385-4dc3-d468-d71633ac97d3"
      },
      "source": [
        "img = X_train[0]\n",
        "plt.figure(figsize=(5,5))\n",
        "plt.imshow(img, cmap=\"gray\")"
      ],
      "execution_count": 5,
      "outputs": [
        {
          "output_type": "execute_result",
          "data": {
            "text/plain": [
              "<matplotlib.image.AxesImage at 0x7f9bdee379d0>"
            ]
          },
          "metadata": {
            "tags": []
          },
          "execution_count": 5
        },
        {
          "output_type": "display_data",
          "data": {
            "image/png": "[encoded data removed]",
            "text/plain": [
              "<Figure size 360x360 with 1 Axes>"
            ]
          },
          "metadata": {
            "tags": [],
            "needs_background": "light"
          }
        }
      ]
    },
    {
      "cell_type": "code",
      "metadata": {
        "colab": {
          "base_uri": "https://localhost:8080/",
          "height": 337
        },
        "id": "ZMvLgN_SdhRn",
        "outputId": "47f56ffa-c6d1-433e-969d-257d352f0753"
      },
      "source": [
        "X_train = X_train/225.0\n",
        "X_test = X_test/225.0\n",
        "\n",
        "img2 = X_train[0]\n",
        "plt.figure(figsize=(5,5))\n",
        "plt.imshow(img, cmap=\"gray\")"
      ],
      "execution_count": 6,
      "outputs": [
        {
          "output_type": "execute_result",
          "data": {
            "text/plain": [
              "<matplotlib.image.AxesImage at 0x7f9bdee29250>"
            ]
          },
          "metadata": {
            "tags": []
          },
          "execution_count": 6
        },
        {
          "output_type": "display_data",
          "data": {
            "image/png": "[encoded data removed]",
            "text/plain": [
              "<Figure size 360x360 with 1 Axes>"
            ]
          },
          "metadata": {
            "tags": [],
            "needs_background": "light"
          }
        }
      ]
    },
    {
      "cell_type": "code",
      "metadata": {
        "id": "639111mHerBh"
      },
      "source": [
        "from tensorflow.keras.utils import to_categorical\n",
        "\n",
        "y_train = to_categorical(y_train, num_classes = 10)\n",
        "y_test = to_categorical(y_test, num_classes = 10)"
      ],
      "execution_count": 7,
      "outputs": []
    },
    {
      "cell_type": "code",
      "metadata": {
        "colab": {
          "base_uri": "https://localhost:8080/"
        },
        "id": "DTB12qYvgAHK",
        "outputId": "258c3d7d-67bf-41b6-ef31-7c4ce659fc48"
      },
      "source": [
        "y_train[0]"
      ],
      "execution_count": 8,
      "outputs": [
        {
          "output_type": "execute_result",
          "data": {
            "text/plain": [
              "array([0., 0., 0., 0., 0., 1., 0., 0., 0., 0.], dtype=float32)"
            ]
          },
          "metadata": {
            "tags": []
          },
          "execution_count": 8
        }
      ]
    },
    {
      "cell_type": "code",
      "metadata": {
        "id": "hhhVaO_bTRxZ"
      },
      "source": [
        "X_train = X_train.reshape(-1, 28, 28, 1)\n",
        "X_test = X_test.reshape(-1, 28, 28, 1)"
      ],
      "execution_count": 9,
      "outputs": []
    },
    {
      "cell_type": "code",
      "metadata": {
        "id": "vwexkjOepjDo"
      },
      "source": [
        "model = Sequential()\n",
        "model.add(Conv2D(filters=20, kernel_size=(3,3), activation='relu', input_shape=(28, 28, 1)))\n",
        "model.add(MaxPool2D(pool_size=(2,2)))\n",
        "model.add(Conv2D(filters=10, kernel_size=(3,3), activation='relu'))\n",
        "model.add(MaxPool2D(pool_size=(2,2)))\n",
        "model.add(Flatten())\n",
        "model.add(Dense(units=64, activation='relu'))\n",
        "model.add(Dropout(rate=0.2))\n",
        "model.add(Dense(units=10, activation='softmax'))"
      ],
      "execution_count": 10,
      "outputs": []
    },
    {
      "cell_type": "code",
      "metadata": {
        "colab": {
          "base_uri": "https://localhost:8080/"
        },
        "id": "MATug9bdys4Z",
        "outputId": "02166c9b-cca0-4fb9-c538-14f9654cc1bd"
      },
      "source": [
        "model.summary()"
      ],
      "execution_count": 11,
      "outputs": [
        {
          "output_type": "stream",
          "text": [
            "Model: \"sequential\"\n",
            "_________________________________________________________________\n",
            "Layer (type)                 Output Shape              Param #   \n",
            "=================================================================\n",
            "conv2d (Conv2D)              (None, 26, 26, 20)        200       \n",
            "_________________________________________________________________\n",
            "max_pooling2d (MaxPooling2D) (None, 13, 13, 20)        0         \n",
            "_________________________________________________________________\n",
            "conv2d_1 (Conv2D)            (None, 11, 11, 10)        1810      \n",
            "_________________________________________________________________\n",
            "max_pooling2d_1 (MaxPooling2 (None, 5, 5, 10)          0         \n",
            "_________________________________________________________________\n",
            "flatten (Flatten)            (None, 250)               0         \n",
            "_________________________________________________________________\n",
            "dense (Dense)                (None, 64)                16064     \n",
            "_________________________________________________________________\n",
            "dropout (Dropout)            (None, 64)                0         \n",
            "_________________________________________________________________\n",
            "dense_1 (Dense)              (None, 10)                650       \n",
            "=================================================================\n",
            "Total params: 18,724\n",
            "Trainable params: 18,724\n",
            "Non-trainable params: 0\n",
            "_________________________________________________________________\n"
          ],
          "name": "stdout"
        }
      ]
    },
    {
      "cell_type": "code",
      "metadata": {
        "id": "A_jxOcSnAVjS"
      },
      "source": [
        "# optimer = Adam(learning_rate=0.01)\n",
        "optimer = SGD(learning_rate=0.001, momentum=0.99)"
      ],
      "execution_count": 18,
      "outputs": []
    },
    {
      "cell_type": "code",
      "metadata": {
        "id": "8c8Y-GEuB19m"
      },
      "source": [
        "model.compile(optimizer=optimer, loss='categorical_crossentropy', metrics=['accuracy'])"
      ],
      "execution_count": 19,
      "outputs": []
    },
    {
      "cell_type": "code",
      "metadata": {
        "id": "TAI0JB-UCEQS"
      },
      "source": [
        "BATCH_SIZE = 32\n",
        "EPOCHS = 20"
      ],
      "execution_count": 26,
      "outputs": []
    },
    {
      "cell_type": "code",
      "metadata": {
        "colab": {
          "base_uri": "https://localhost:8080/"
        },
        "id": "EE9SslFDD1xe",
        "outputId": "87d7bf3f-7ba4-414a-8d24-4ac9b1f52dc8"
      },
      "source": [
        "history = model.fit(X_train, y_train, batch_size=BATCH_SIZE, epochs=EPOCHS, validation_data=(X_test, y_test))"
      ],
      "execution_count": 27,
      "outputs": [
        {
          "output_type": "stream",
          "text": [
            "Epoch 1/20\n",
            "1875/1875 [==============================] - 33s 17ms/step - loss: 2.3019 - accuracy: 0.1113 - val_loss: 2.3015 - val_accuracy: 0.1135\n",
            "Epoch 2/20\n",
            "1875/1875 [==============================] - 32s 17ms/step - loss: 2.3019 - accuracy: 0.1119 - val_loss: 2.3012 - val_accuracy: 0.1135\n",
            "Epoch 3/20\n",
            "1875/1875 [==============================] - 32s 17ms/step - loss: 2.3020 - accuracy: 0.1102 - val_loss: 2.3016 - val_accuracy: 0.1135\n",
            "Epoch 4/20\n",
            "1875/1875 [==============================] - 32s 17ms/step - loss: 2.3019 - accuracy: 0.1124 - val_loss: 2.3016 - val_accuracy: 0.1010\n",
            "Epoch 5/20\n",
            "1875/1875 [==============================] - 32s 17ms/step - loss: 2.3020 - accuracy: 0.1099 - val_loss: 2.3021 - val_accuracy: 0.1135\n",
            "Epoch 6/20\n",
            "1875/1875 [==============================] - 32s 17ms/step - loss: 2.3020 - accuracy: 0.1112 - val_loss: 2.3017 - val_accuracy: 0.1135\n",
            "Epoch 7/20\n",
            "1875/1875 [==============================] - 33s 17ms/step - loss: 2.3019 - accuracy: 0.1123 - val_loss: 2.3018 - val_accuracy: 0.1028\n",
            "Epoch 8/20\n",
            "1875/1875 [==============================] - 32s 17ms/step - loss: 2.3020 - accuracy: 0.1102 - val_loss: 2.3022 - val_accuracy: 0.1135\n",
            "Epoch 9/20\n",
            "1875/1875 [==============================] - 32s 17ms/step - loss: 2.3019 - accuracy: 0.1093 - val_loss: 2.3013 - val_accuracy: 0.1135\n",
            "Epoch 10/20\n",
            "1875/1875 [==============================] - 33s 17ms/step - loss: 2.3020 - accuracy: 0.1115 - val_loss: 2.3016 - val_accuracy: 0.1135\n",
            "Epoch 11/20\n",
            "1875/1875 [==============================] - 32s 17ms/step - loss: 2.3018 - accuracy: 0.1104 - val_loss: 2.3012 - val_accuracy: 0.1135\n",
            "Epoch 12/20\n",
            "1875/1875 [==============================] - 32s 17ms/step - loss: 2.3020 - accuracy: 0.1110 - val_loss: 2.3013 - val_accuracy: 0.1135\n",
            "Epoch 13/20\n",
            "1875/1875 [==============================] - 32s 17ms/step - loss: 2.3021 - accuracy: 0.1116 - val_loss: 2.3023 - val_accuracy: 0.1135\n",
            "Epoch 14/20\n",
            "1875/1875 [==============================] - 32s 17ms/step - loss: 2.3021 - accuracy: 0.1115 - val_loss: 2.3015 - val_accuracy: 0.1135\n",
            "Epoch 15/20\n",
            "1875/1875 [==============================] - 32s 17ms/step - loss: 2.3020 - accuracy: 0.1101 - val_loss: 2.3014 - val_accuracy: 0.1135\n",
            "Epoch 16/20\n",
            "1875/1875 [==============================] - 32s 17ms/step - loss: 2.3020 - accuracy: 0.1124 - val_loss: 2.3015 - val_accuracy: 0.1135\n",
            "Epoch 17/20\n",
            "1875/1875 [==============================] - 32s 17ms/step - loss: 2.3019 - accuracy: 0.1107 - val_loss: 2.3017 - val_accuracy: 0.1032\n",
            "Epoch 18/20\n",
            "1875/1875 [==============================] - 32s 17ms/step - loss: 2.3018 - accuracy: 0.1114 - val_loss: 2.3015 - val_accuracy: 0.1135\n",
            "Epoch 19/20\n",
            "1875/1875 [==============================] - 32s 17ms/step - loss: 2.3018 - accuracy: 0.1113 - val_loss: 2.3015 - val_accuracy: 0.1135\n",
            "Epoch 20/20\n",
            "1875/1875 [==============================] - 32s 17ms/step - loss: 2.3018 - accuracy: 0.1119 - val_loss: 2.3017 - val_accuracy: 0.1135\n"
          ],
          "name": "stdout"
        }
      ]
    },
    {
      "cell_type": "code",
      "metadata": {
        "colab": {
          "base_uri": "https://localhost:8080/",
          "height": 736
        },
        "id": "c6ek7HBcINpU",
        "outputId": "c6d72951-56ba-4d20-e870-1e39acd5e65a"
      },
      "source": [
        "plt.title('Model Accuracy')\n",
        "plt.grid()\n",
        "plt.ylabel('Accuracy')\n",
        "plt.xlabel('Epochs')\n",
        "plt.legend(['train', 'validation'], loc='upper left')\n",
        "plt.show()\n",
        "\n",
        "fig = plt.figure(figsize=(7, 7))\n",
        "plt.plot(history.history['loss'])\n",
        "plt.plot(history.history['val_loss'])\n",
        "plt.title('Model Loss')\n",
        "plt.grid()\n",
        "plt.ylabel('Loss')\n",
        "plt.xlabel('Epochs')\n",
        "plt.legend(['train', 'validation'], loc='upper left')\n",
        "plt.show()"
      ],
      "execution_count": 28,
      "outputs": [
        {
          "output_type": "display_data",
          "data": {
            "image/png": "[encoded data removed]",
            "text/plain": [
              "<Figure size 432x288 with 1 Axes>"
            ]
          },
          "metadata": {
            "tags": [],
            "needs_background": "light"
          }
        },
        {
          "output_type": "display_data",
          "data": {
            "image/png": "[encoded data removed]",
            "text/plain": [
              "<Figure size 504x504 with 1 Axes>"
            ]
          },
          "metadata": {
            "tags": [],
            "needs_background": "light"
          }
        }
      ]
    },
    {
      "cell_type": "code",
      "metadata": {
        "colab": {
          "base_uri": "https://localhost:8080/",
          "height": 623
        },
        "id": "cyI2fcHRU60m",
        "outputId": "000c6fcd-2fb0-4202-879f-1db4e4a46d92"
      },
      "source": [
        "y_pred_train = model.predict(X_train)\n",
        "y_pred_train = np.argmax(y_pred_train, axis=1)\n",
        "\n",
        "y_true = np.argmax(y_train, axis=1)\n",
        "cm = confusion_matrix(y_true=y_true, y_pred=y_pred_train)\n",
        "\n",
        "fig = plt.figure(figsize=(10,10))\n",
        "sns.heatmap(cm, cmap='Greens', annot=True, fmt='d')\n",
        "plt.xlabel(\"Predicted\")\n",
        "plt.ylabel(\"Ground Truth\")"
      ],
      "execution_count": 31,
      "outputs": [
        {
          "output_type": "execute_result",
          "data": {
            "text/plain": [
              "Text(69.0, 0.5, 'Ground Truth')"
            ]
          },
          "metadata": {
            "tags": []
          },
          "execution_count": 31
        },
        {
          "output_type": "display_data",
          "data": {
            "image/png": "[encoded data removed]",
            "text/plain": [
              "<Figure size 720x720 with 2 Axes>"
            ]
          },
          "metadata": {
            "tags": [],
            "needs_background": "light"
          }
        }
      ]
    },
    {
      "cell_type": "code",
      "metadata": {
        "colab": {
          "base_uri": "https://localhost:8080/"
        },
        "id": "6fMe_ftqWwLe",
        "outputId": "57db431f-ede8-45e5-dc57-0515eed0c326"
      },
      "source": [
        "model.evaluate(X_test, y_test)"
      ],
      "execution_count": 32,
      "outputs": [
        {
          "output_type": "stream",
          "text": [
            "313/313 [==============================] - 2s 6ms/step - loss: 2.3017 - accuracy: 0.1135\n"
          ],
          "name": "stdout"
        },
        {
          "output_type": "execute_result",
          "data": {
            "text/plain": [
              "[2.3016579151153564, 0.11349999904632568]"
            ]
          },
          "metadata": {
            "tags": []
          },
          "execution_count": 32
        }
      ]
    },
    {
      "cell_type": "code",
      "metadata": {
        "id": "avWEWT4rW5ju"
      },
      "source": [
        "y_pred_test = model.predict(X_test)\n",
        "y_pred_test = np.argmax(y_pred_test, axis=1)\n",
        "\n",
        "y_true_test = np.argmax(y_test, axis=1)"
      ],
      "execution_count": 34,
      "outputs": []
    }
  ]
}